{
 "cells": [
  {
   "cell_type": "code",
   "execution_count": 1,
   "id": "2977da9c-161d-4f95-8fe9-b70d2bb4124e",
   "metadata": {
    "tags": []
   },
   "outputs": [],
   "source": [
    "import vertexai\n",
    "import os\n",
    "from tqdm.notebook import tqdm\n",
    "import pandas as pd\n",
    "from google.api_core.exceptions import ResourceExhausted\n",
    "import time\n",
    "from vertexai.preview.language_models import TextEmbeddingModel\n",
    "import json"
   ]
  },
  {
   "cell_type": "code",
   "execution_count": 2,
   "id": "fad926a7-c289-4365-8173-27c531201436",
   "metadata": {
    "tags": []
   },
   "outputs": [],
   "source": [
    "PROJECT_ID = os.getenv(\"GOOGLE_CLOUD_PROJECT\")\n",
    "LOCATION = \"europe-west1\"\n",
    "BUCKET_NAME = \"lloyds-genai24lon-2701-bucket\"\n",
    "\n",
    "vertexai.init(project=PROJECT_ID, location=LOCATION)"
   ]
  },
  {
   "cell_type": "code",
   "execution_count": 3,
   "id": "eaf0ffd7-9918-4a6b-a2c4-2a54877e7899",
   "metadata": {
    "tags": []
   },
   "outputs": [
    {
     "name": "stdout",
     "output_type": "stream",
     "text": [
      "31939\n"
     ]
    }
   ],
   "source": [
    "max_len = None\n",
    "decisions = pd.read_csv(f'gs://{BUCKET_NAME}/decisions_2023.csv',\n",
    "                        na_filter=False, usecols=['text'], nrows=max_len)\n",
    "model = TextEmbeddingModel.from_pretrained(\"textembedding-gecko@003\")\n",
    "text_list = list(decisions.text)\n",
    "text_list = [(i, text) for i, text in enumerate(text_list)]\n",
    "text_list = text_list[400000:]\n",
    "print(len(text_list))"
   ]
  },
  {
   "cell_type": "code",
   "execution_count": 4,
   "id": "c939e4d9-ccc3-478c-aa1b-f7dbbc3a6eaf",
   "metadata": {
    "tags": []
   },
   "outputs": [],
   "source": [
    "def get_embedding_single(text):\n",
    "    for j in range(4):\n",
    "        try:\n",
    "            return model.get_embeddings([text])[0].values #Send request to embedding model\n",
    "        except ResourceExhausted:\n",
    "            time.sleep(2**j)\n",
    "    print(f\"Embedding failed:\", text[:100])"
   ]
  },
  {
   "cell_type": "code",
   "execution_count": 5,
   "id": "dd1d7812-bddb-4885-825e-3e5ddd33d8ee",
   "metadata": {
    "tags": []
   },
   "outputs": [],
   "source": [
    "def get_embedding(text_list_to_embed):\n",
    "    for j in range(4):\n",
    "        try:\n",
    "            text_only = [y for x, y in text_list_to_embed]\n",
    "            embeddings = model.get_embeddings(text_only) #Send request to embedding model\n",
    "            embeddings_vector = [(i, embedding.values) for (i, text), embedding in zip(text_list_to_embed, embeddings)]\n",
    "            return embeddings_vector\n",
    "        except ResourceExhausted:\n",
    "            time.sleep(2**j)\n",
    "        except Exception as e:\n",
    "            break\n",
    "    return [(i, None) for i, _ in text_list_to_embed]"
   ]
  },
  {
   "cell_type": "code",
   "execution_count": 6,
   "id": "1156d427-3d77-41e5-bd91-f88ab0da4286",
   "metadata": {
    "tags": []
   },
   "outputs": [],
   "source": [
    "def chunks(lst, n):\n",
    "    \"\"\"Yield successive n-sized chunks from lst.\"\"\"\n",
    "    for i in range(0, len(lst), n):\n",
    "        yield lst[i:i + n]\n",
    "\n",
    "text_list_batched = list(chunks(text_list, 5))"
   ]
  },
  {
   "cell_type": "code",
   "execution_count": null,
   "id": "e5490be1-8ccf-4cd6-854b-20119c101470",
   "metadata": {
    "tags": []
   },
   "outputs": [
    {
     "data": {
      "application/vnd.jupyter.widget-view+json": {
       "model_id": "b66bb08dbf2f4676949c6ca49d6bb8bc",
       "version_major": 2,
       "version_minor": 0
      },
      "text/plain": [
       "  0%|          | 0/6388 [00:00<?, ?it/s]"
      ]
     },
     "metadata": {},
     "output_type": "display_data"
    }
   ],
   "source": [
    "embeddings_list = [get_embedding(text) for text in tqdm(text_list_batched)]"
   ]
  },
  {
   "cell_type": "code",
   "execution_count": null,
   "id": "a84b63d9-4f61-4f1f-a1a3-dbfca219188f",
   "metadata": {
    "tags": []
   },
   "outputs": [],
   "source": [
    "failed_embeddings = [x for x, elem in enumerate(embeddings_list) if not elem]\n",
    "len(failed_embeddings)"
   ]
  },
  {
   "cell_type": "code",
   "execution_count": null,
   "id": "5be169a3-bd00-495b-8999-62e630d3f7de",
   "metadata": {
    "tags": []
   },
   "outputs": [],
   "source": [
    "failed_embeddings = [x for x, elem in enumerate(embeddings_list) if not elem[0][1]]\n",
    "retry = 0\n",
    "while len(failed_embeddings) > 0 and retry < 10:\n",
    "    # refill failed embeddings\n",
    "    for j in tqdm(failed_embeddings):\n",
    "        embeddings_list[j] = get_embedding(text_list_batched[j])\n",
    "    failed_embeddings = [x for x, elem in enumerate(embeddings_list) if not elem[0][1]]\n",
    "    retry+=1 # limit number of retries"
   ]
  },
  {
   "cell_type": "code",
   "execution_count": null,
   "id": "8542b902-8db5-4e95-9898-f06b242cfecd",
   "metadata": {
    "tags": []
   },
   "outputs": [],
   "source": [
    "# unnest embeddings_list\n",
    "embeddings_flat = [x for chunk in embeddings_list for x in chunk]"
   ]
  },
  {
   "cell_type": "code",
   "execution_count": null,
   "id": "ee5c0f8c-f23c-4ebb-ac04-2258361ae2a8",
   "metadata": {
    "tags": []
   },
   "outputs": [],
   "source": [
    "len(embeddings_flat)"
   ]
  },
  {
   "cell_type": "code",
   "execution_count": null,
   "id": "9d577c0c-6dad-41da-ac37-e2951d3142b1",
   "metadata": {
    "tags": []
   },
   "outputs": [],
   "source": [
    "embeddings_dict = [{'id': i, 'embedding': embedding} for i, embedding in embeddings_flat]"
   ]
  },
  {
   "cell_type": "code",
   "execution_count": null,
   "id": "98df7aa1-28b5-4f81-9ca0-f2a1891d1dfc",
   "metadata": {
    "tags": []
   },
   "outputs": [],
   "source": [
    "with open(\"vector_search_dataset_formatted_4.json\", \"w\") as f:\n",
    "    json.dump(embeddings_dict, f)"
   ]
  },
  {
   "cell_type": "code",
   "execution_count": null,
   "id": "4268dedc-7f63-4b72-a619-72d50e201479",
   "metadata": {
    "tags": []
   },
   "outputs": [],
   "source": [
    "with open(\"vector_search_dataset_4.json\", \"w\") as f:\n",
    "    for i, embedding in embeddings_flat:\n",
    "        f.write('{\"id\":\"' + str(i) + '\",')\n",
    "        f.write('\"embedding\":[' + \",\".join(str(x) for x in embedding) + \"]}\")\n",
    "        f.write(\"\\n\")"
   ]
  },
  {
   "cell_type": "code",
   "execution_count": null,
   "id": "1fb614d0-9788-406b-9771-ec13844eb5b3",
   "metadata": {
    "tags": []
   },
   "outputs": [],
   "source": [
    "!gsutil copy ./vector_search_dataset_formatted_4.json gs://lloyds-genai24lon-2701-bucket/embeddings/vector_search_dataset_formatted_4.json\n",
    "!gsutil copy ./vector_search_dataset_4.json gs://lloyds-genai24lon-2701-bucket/embeddings/vector_search_dataset_4.json"
   ]
  },
  {
   "cell_type": "code",
   "execution_count": null,
   "id": "8346d68e-51ab-4afc-a531-689907d53344",
   "metadata": {},
   "outputs": [],
   "source": [
    "# # go back and fix any additional broken ones\n",
    "# failed_embeddings = [x for x, elem in embeddings_flat if not elem]\n",
    "# retry = 0\n",
    "# while len(failed_embeddings) > 0 and retry < 5:\n",
    "#     # refill failed embeddings\n",
    "#     for j in failed_embeddings:\n",
    "#         embeddings_flat[j] = (text_list[j][0], get_embedding_single(text_list[j][1])\n",
    "#     failed_embeddings = [x for x, elem in enumerate(embeddings_list) if not elem]\n",
    "#     retry+=1 # limit number of retries"
   ]
  },
  {
   "cell_type": "code",
   "execution_count": null,
   "id": "1e73967d-4a4b-4a91-80c1-55b2f02c8c00",
   "metadata": {
    "tags": []
   },
   "outputs": [],
   "source": [
    "with open(\"vector_search_dataset_formatted_4.json\", \"r\") as f:\n",
    "    loaded_json = json.load(f)"
   ]
  },
  {
   "cell_type": "code",
   "execution_count": null,
   "id": "49de2bcb-8383-45ef-a350-94ec4a59bfcf",
   "metadata": {
    "tags": []
   },
   "outputs": [],
   "source": [
    "loaded_json == embeddings_dict"
   ]
  },
  {
   "cell_type": "code",
   "execution_count": null,
   "id": "47b7d4a1-aeca-4d23-827a-451c6ed9c5b5",
   "metadata": {},
   "outputs": [],
   "source": []
  }
 ],
 "metadata": {
  "environment": {
   "kernel": "conda-root-py",
   "name": "workbench-notebooks.m117",
   "type": "gcloud",
   "uri": "us-docker.pkg.dev/deeplearning-platform-release/gcr.io/workbench-notebooks:m117"
  },
  "kernelspec": {
   "display_name": "Python 3 (ipykernel) (Local)",
   "language": "python",
   "name": "conda-root-py"
  },
  "language_info": {
   "codemirror_mode": {
    "name": "ipython",
    "version": 3
   },
   "file_extension": ".py",
   "mimetype": "text/x-python",
   "name": "python",
   "nbconvert_exporter": "python",
   "pygments_lexer": "ipython3",
   "version": "3.10.13"
  }
 },
 "nbformat": 4,
 "nbformat_minor": 5
}
