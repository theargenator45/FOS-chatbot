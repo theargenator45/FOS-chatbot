{
 "cells": [
  {
   "cell_type": "markdown",
   "id": "713e189d-bfc0-459d-b0c7-baa5c9e03de1",
   "metadata": {},
   "source": [
    "# Get summary data and store them in bigquery"
   ]
  },
  {
   "cell_type": "code",
   "execution_count": 1,
   "id": "6973e022-5378-43d1-b60a-e7b1044e4de5",
   "metadata": {
    "tags": []
   },
   "outputs": [],
   "source": [
    "import pandas as pd"
   ]
  },
  {
   "cell_type": "code",
   "execution_count": 2,
   "id": "a2834341-0b86-469e-a3c6-4a9017efd486",
   "metadata": {
    "tags": []
   },
   "outputs": [
    {
     "name": "stdout",
     "output_type": "stream",
     "text": [
      "\u001b[33m  WARNING: The script tb-gcp-uploader is installed in '/home/jupyter/.local/bin' which is not on PATH.\n",
      "  Consider adding this directory to PATH or, if you prefer to suppress this warning, use --no-warn-script-location.\u001b[0m\u001b[33m\n",
      "\u001b[0m\u001b[33m  WARNING: The script huggingface-cli is installed in '/home/jupyter/.local/bin' which is not on PATH.\n",
      "  Consider adding this directory to PATH or, if you prefer to suppress this warning, use --no-warn-script-location.\u001b[0m\u001b[33m\n",
      "\u001b[0m"
     ]
    }
   ],
   "source": [
    "! pip install --user --quiet google-cloud-aiplatform==1.25.0\n",
    "\n",
    "# Install pandas\n",
    "! pip install --user --quiet pandas\n",
    "\n",
    "# Install HuggingFace Datasets\n",
    "! pip install --user --quiet datasets\n",
    "\n",
    "# Install Python client for Google Search API\n",
    "! pip install --user --quiet google-api-python-client\n",
    "\n",
    "# PDF loader\n",
    "! pip install --user --quiet pypdf\n",
    "\n",
    "# Install similarity search library\n",
    "# TO-DO: Replace with vertex AI Matching Engine\n",
    "! pip install --user --quiet faiss-cpu"
   ]
  },
  {
   "cell_type": "code",
   "execution_count": 3,
   "id": "804d112d-f318-4dda-bd4b-57e1d14c5868",
   "metadata": {
    "tags": []
   },
   "outputs": [
    {
     "name": "stdout",
     "output_type": "stream",
     "text": [
      "\u001b[33m  WARNING: The script isympy is installed in '/home/jupyter/.local/bin' which is not on PATH.\n",
      "  Consider adding this directory to PATH or, if you prefer to suppress this warning, use --no-warn-script-location.\u001b[0m\u001b[33m\n",
      "\u001b[0m\u001b[33m  WARNING: The script humanfriendly is installed in '/home/jupyter/.local/bin' which is not on PATH.\n",
      "  Consider adding this directory to PATH or, if you prefer to suppress this warning, use --no-warn-script-location.\u001b[0m\u001b[33m\n",
      "\u001b[0m\u001b[33m  WARNING: The script coloredlogs is installed in '/home/jupyter/.local/bin' which is not on PATH.\n",
      "  Consider adding this directory to PATH or, if you prefer to suppress this warning, use --no-warn-script-location.\u001b[0m\u001b[33m\n",
      "\u001b[0m\u001b[33m  WARNING: The script onnxruntime_test is installed in '/home/jupyter/.local/bin' which is not on PATH.\n",
      "  Consider adding this directory to PATH or, if you prefer to suppress this warning, use --no-warn-script-location.\u001b[0m\u001b[33m\n",
      "\u001b[0m\u001b[33m  WARNING: The script transformers-cli is installed in '/home/jupyter/.local/bin' which is not on PATH.\n",
      "  Consider adding this directory to PATH or, if you prefer to suppress this warning, use --no-warn-script-location.\u001b[0m\u001b[33m\n",
      "\u001b[0m\u001b[33m  WARNING: The script langchain-server is installed in '/home/jupyter/.local/bin' which is not on PATH.\n",
      "  Consider adding this directory to PATH or, if you prefer to suppress this warning, use --no-warn-script-location.\u001b[0m\u001b[33m\n",
      "\u001b[0m\u001b[33m    WARNING: No metadata found in ./.local/lib/python3.10/site-packages\u001b[0m\u001b[33m\n",
      "\u001b[0m\u001b[33m  WARNING: The script tb-gcp-uploader is installed in '/home/jupyter/.local/bin' which is not on PATH.\n",
      "  Consider adding this directory to PATH or, if you prefer to suppress this warning, use --no-warn-script-location.\u001b[0m\u001b[33m\n",
      "\u001b[0m"
     ]
    }
   ],
   "source": [
    "# Install Vertex AI LLM SDK, langchain and dependencies\n",
    "! pip install --quiet google-cloud-aiplatform langchain==0.0.229 chromadb==0.3.26 pydantic==1.10.8 typing-inspect==0.8.0 typing_extensions==4.5.0 pandas datasets google-api-python-client pypdf faiss-cpu transformers config --upgrade --user"
   ]
  },
  {
   "cell_type": "code",
   "execution_count": 4,
   "id": "00433153-b401-4b42-9b15-b1991c05a12b",
   "metadata": {
    "tags": []
   },
   "outputs": [],
   "source": [
    "# Below libraries are required to build a SQL engine for BigQuery\n",
    "!pip install --user SQLAlchemy==1.4.48 --quiet\n",
    "!pip install --user sqlalchemy-bigquery --quiet"
   ]
  },
  {
   "cell_type": "code",
   "execution_count": 2,
   "id": "76024d2e-4f23-4ae8-83d3-03d583b33425",
   "metadata": {
    "tags": []
   },
   "outputs": [
    {
     "name": "stdout",
     "output_type": "stream",
     "text": [
      "LangChain version: 0.0.229\n",
      "Vertex AI SDK version: 1.43.0\n"
     ]
    }
   ],
   "source": [
    "import langchain\n",
    "print(f\"LangChain version: {langchain.__version__}\")\n",
    "\n",
    "from google.cloud import aiplatform\n",
    "print(f\"Vertex AI SDK version: {aiplatform.__version__}\")\n",
    "\n",
    "# Initialize Vertex AI SDK\n",
    "import vertexai\n",
    "vertexai.init(project=\"lloyds-genai24lon-2701\", location=\"europe-west1\")"
   ]
  },
  {
   "cell_type": "markdown",
   "id": "69a737a9-982b-4d7f-b0b7-c50c82e6ff3a",
   "metadata": {
    "jp-MarkdownHeadingCollapsed": true,
    "tags": []
   },
   "source": [
    "## Vertex AI LLM wrapper using Langchain"
   ]
  },
  {
   "cell_type": "code",
   "execution_count": 3,
   "id": "2aa41bb7-3f30-4525-9b20-a0ff2ee2390d",
   "metadata": {
    "tags": []
   },
   "outputs": [],
   "source": [
    "import time\n",
    "from typing import Any, Mapping, List, Dict, Optional, Tuple, Union\n",
    "from dataclasses import dataclass, field\n",
    "\n",
    "from pydantic import BaseModel, Extra, root_validator\n",
    "\n",
    "from langchain.llms.base import LLM\n",
    "from langchain.embeddings.base import Embeddings\n",
    "from langchain.chat_models.base import BaseChatModel\n",
    "from langchain.llms.utils import enforce_stop_tokens\n",
    "from langchain.schema import Generation, LLMResult\n",
    "from langchain.schema import AIMessage, BaseMessage, ChatGeneration, ChatResult, HumanMessage, SystemMessage\n",
    "\n",
    "from vertexai.preview.language_models import TextGenerationResponse, ChatSession\n",
    "\n",
    "\n",
    "def rate_limit(max_per_minute):\n",
    "  period = 60 / max_per_minute\n",
    "  print('Waiting')\n",
    "  while True:\n",
    "    before = time.time()\n",
    "    yield\n",
    "    after = time.time()\n",
    "    elapsed = after - before\n",
    "    sleep_time = max(0, period - elapsed)\n",
    "    if sleep_time > 0:\n",
    "      print('.', end='')\n",
    "      time.sleep(sleep_time)\n",
    "\n",
    "\n",
    "class _VertexCommon(BaseModel):\n",
    "    \"\"\"Wrapper around Vertex AI large language models.\n",
    "\n",
    "    To use, you should have the\n",
    "    ``google.cloud.aiplatform.private_preview.language_models`` python package\n",
    "    installed.\n",
    "    \"\"\"\n",
    "    client: Any = None #: :meta private:\n",
    "    model_name: str = \"text-bison@001\"\n",
    "    \"\"\"Model name to use.\"\"\"\n",
    "\n",
    "    temperature: float = 0.2\n",
    "    \"\"\"What sampling temperature to use.\"\"\"\n",
    "\n",
    "    top_p: int = 0.8\n",
    "    \"\"\"Total probability mass of tokens to consider at each step.\"\"\"\n",
    "\n",
    "    top_k: int = 40\n",
    "    \"\"\"The number of highest probability tokens to keep for top-k filtering.\"\"\"\n",
    "\n",
    "    max_output_tokens: int = 200\n",
    "    \"\"\"The maximum number of tokens to generate in the completion.\"\"\"\n",
    "\n",
    "    @property\n",
    "    def _default_params(self) -> Mapping[str, Any]:\n",
    "        \"\"\"Get the default parameters for calling Vertex AI API.\"\"\"\n",
    "        return {\n",
    "            \"temperature\": self.temperature,\n",
    "            \"top_p\": self.top_p,\n",
    "            \"top_k\": self.top_k,\n",
    "            \"max_output_tokens\": self.max_output_tokens\n",
    "        }\n",
    "\n",
    "    def _predict(self, prompt: str, stop: Optional[List[str]]) -> str:\n",
    "        res = self.client.predict(prompt, **self._default_params)\n",
    "        return self._enforce_stop_words(res.text, stop)\n",
    "\n",
    "    def _enforce_stop_words(self, text: str, stop: Optional[List[str]]) -> str:\n",
    "        if stop:\n",
    "            return enforce_stop_tokens(text, stop)\n",
    "        return text\n",
    "\n",
    "    @property\n",
    "    def _llm_type(self) -> str:\n",
    "        \"\"\"Return type of llm.\"\"\"\n",
    "        return \"vertex_ai\"\n",
    "\n",
    "class VertexLLM(_VertexCommon, LLM):\n",
    "    model_name: str = \"text-bison@001\"\n",
    "\n",
    "    @root_validator()\n",
    "    def validate_environment(cls, values: Dict) -> Dict:\n",
    "        \"\"\"Validate that the python package exists in environment.\"\"\"\n",
    "        try:\n",
    "            from vertexai.preview.language_models import TextGenerationModel\n",
    "        except ImportError:\n",
    "            raise ValueError(\n",
    "                \"Could not import Vertex AI LLM python package. \"\n",
    "            )\n",
    "\n",
    "        try:\n",
    "            values[\"client\"] = TextGenerationModel.from_pretrained(values[\"model_name\"])\n",
    "        except AttributeError:\n",
    "            raise ValueError(\n",
    "                \"Could not set Vertex Text Model client.\"\n",
    "            )\n",
    "\n",
    "        return values\n",
    "\n",
    "    def _call(self, prompt: str, stop: Optional[List[str]] = None) -> str:\n",
    "        \"\"\"Call out to Vertex AI's create endpoint.\n",
    "\n",
    "        Args:\n",
    "            prompt: The prompt to pass into the model.\n",
    "\n",
    "        Returns:\n",
    "            The string generated by the model.\n",
    "        \"\"\"\n",
    "        return self._predict(prompt, stop)\n",
    "\n",
    "\n",
    "@dataclass\n",
    "class _MessagePair:\n",
    "    \"\"\"InputOutputTextPair represents a pair of input and output texts.\"\"\"\n",
    "\n",
    "    question: HumanMessage\n",
    "    answer: AIMessage\n",
    "\n",
    "\n",
    "@dataclass\n",
    "class _ChatHistory:\n",
    "    \"\"\"InputOutputTextPair represents a pair of input and output texts.\"\"\"\n",
    "\n",
    "    history: List[_MessagePair] = field(default_factory=list)\n",
    "    system_message: Optional[SystemMessage] = None\n",
    "\n",
    "\n",
    "def _parse_chat_history(history: List[BaseMessage]) -> _ChatHistory:\n",
    "    \"\"\"Parses a sequence of messages into history.\n",
    "\n",
    "    A sequency should be either (SystemMessage, HumanMessage, AIMessage,\n",
    "    HumanMessage, AIMessage, ...) or (HumanMessage, AIMessage, HumanMessage,\n",
    "    AIMessage, ...).\n",
    "    \"\"\"\n",
    "    if not history:\n",
    "        return _ChatHistory()\n",
    "    first_message = history[0]\n",
    "    system_message = first_message if isinstance(first_message, SystemMessage) else None\n",
    "    chat_history = _ChatHistory(system_message=system_message)\n",
    "    messages_left = history[1:] if system_message else history\n",
    "    # if len(messages_left) % 2 != 0:\n",
    "    #     raise ValueError(\n",
    "    #         f\"Amount of messages in history should be even, got {len(messages_left)}!\"\n",
    "    #     )\n",
    "    for question, answer in zip(messages_left[::2], messages_left[1::2]):\n",
    "        if not isinstance(question, HumanMessage) or not isinstance(answer, AIMessage):\n",
    "            raise ValueError(\n",
    "                \"A human message should follow a bot one, \"\n",
    "                f\"got {question.type}, {answer.type}.\"\n",
    "            )\n",
    "        chat_history.history.append(_MessagePair(question=question, answer=answer))\n",
    "    return chat_history\n",
    "\n",
    "\n",
    "class _VertexChatCommon(_VertexCommon):\n",
    "    \"\"\"Wrapper around Vertex AI Chat large language models.\n",
    "\n",
    "    To use, you should have the\n",
    "    ``vertexai.preview.language_models`` python package\n",
    "    installed.\n",
    "    \"\"\"\n",
    "    model_name: str = \"chat-bison@001\"\n",
    "    \"\"\"Model name to use.\"\"\"\n",
    "\n",
    "    @root_validator()\n",
    "    def validate_environment(cls, values: Dict) -> Dict:\n",
    "        \"\"\"Validate that the python package exists in environment.\"\"\"\n",
    "        try:\n",
    "            from vertexai.preview.language_models import ChatModel\n",
    "        except ImportError:\n",
    "            raise ValueError(\n",
    "                \"Could not import Vertex AI LLM python package. \"\n",
    "            )\n",
    "\n",
    "        try:\n",
    "            values[\"client\"] = ChatModel.from_pretrained(values[\"model_name\"])\n",
    "        except AttributeError:\n",
    "            raise ValueError(\n",
    "                \"Could not set Vertex Text Model client.\"\n",
    "            )\n",
    "\n",
    "        return values\n",
    "\n",
    "    def _response_to_chat_results(\n",
    "        self, response: TextGenerationResponse, stop: Optional[List[str]]\n",
    "    ) -> ChatResult:\n",
    "        text = self._enforce_stop_words(response.text, stop)\n",
    "        return ChatResult(generations=[ChatGeneration(message=AIMessage(content=text))])\n",
    "\n",
    "\n",
    "class VertexChat(_VertexChatCommon, BaseChatModel):\n",
    "    \"\"\"Wrapper around Vertex AI large language models.\n",
    "\n",
    "    To use, you should have the\n",
    "    ``vertexai.preview.language_models`` python package\n",
    "    installed.\n",
    "    \"\"\"\n",
    "\n",
    "    model_name: str = \"chat-bison@001\"\n",
    "    chat: Any = None  #: :meta private:\n",
    "\n",
    "    def send_message(\n",
    "        self, message: Union[HumanMessage, str], stop: Optional[List[str]] = None\n",
    "    ) -> ChatResult:\n",
    "        text = message.content if isinstance(message, BaseMessage) else message\n",
    "        response = self.chat.send_message(text)\n",
    "        text = self._enforce_stop_words(response.text, stop)\n",
    "        return ChatResult(generations=[ChatGeneration(message=AIMessage(content=text))])\n",
    "\n",
    "    def _generate(\n",
    "        self, messages: List[BaseMessage], stop: Optional[List[str]] = None\n",
    "    ) -> ChatResult:\n",
    "        if not messages:\n",
    "            raise ValueError(\n",
    "                \"You should provide at least one message to start the chat!\"\n",
    "            )\n",
    "        question = messages[-1]\n",
    "        if not isinstance(question, HumanMessage):\n",
    "            raise ValueError(\n",
    "                f\"Last message in the list should be from human, got {question.type}.\"\n",
    "            )\n",
    "        self.start_chat(messages[:-1])\n",
    "        return self.send_message(question)\n",
    "\n",
    "    def start_chat(self, messages: List[BaseMessage]) -> None:\n",
    "        \"\"\"Starts a chat.\"\"\"\n",
    "        history = _parse_chat_history(messages)\n",
    "        context = history.system_message.content if history.system_message else None\n",
    "        self.chat = self.client.start_chat(context=context, **self._default_params)\n",
    "        for pair in history.history:\n",
    "            self.chat._history.append((pair.question.content, pair.answer.content))\n",
    "\n",
    "    def clear_chat(self) -> None:\n",
    "        self.chat = None\n",
    "\n",
    "    @property\n",
    "    def history(self) -> List[BaseMessage]:\n",
    "        \"\"\"Chat history.\"\"\"\n",
    "        history: List[BaseMessage] = []\n",
    "        if self.chat:\n",
    "            for question, answer in self.chat._history:\n",
    "                history.append(HumanMessage(content=question))\n",
    "                history.append(AIMessage(content=answer))\n",
    "        return history\n",
    "\n",
    "    async def _agenerate(\n",
    "        self, messages: List[BaseMessage], stop: Optional[List[str]] = None\n",
    "    ) -> ChatResult:\n",
    "        raise NotImplementedError(\n",
    "            \"\"\"Vertex AI doesn't support async requests at the moment.\"\"\"\n",
    "        )\n",
    "\n",
    "class VertexMultiTurnChat(_VertexChatCommon, BaseChatModel):\n",
    "    \"\"\"Wrapper around Vertex AI large language models.\"\"\"\n",
    "\n",
    "    model_name: str = \"chat-bison@001\"\n",
    "    chat: Optional[ChatSession] = None\n",
    "\n",
    "    def clear_chat(self) -> None:\n",
    "        self.chat = None\n",
    "\n",
    "    def start_chat(self, message: Optional[SystemMessage] = None) -> None:\n",
    "        if self.chat:\n",
    "            raise ValueError(\"Chat has already been started. Please, clear it first.\")\n",
    "        if message and not isinstance(message, SystemMessage):\n",
    "            raise ValueError(\"Context should be a system message\")\n",
    "        context = message.content if message else None\n",
    "        self.chat = self.client.start_chat(context=context, **self._default_params)\n",
    "\n",
    "    @property\n",
    "    def history(self) -> List[Tuple[str]]:\n",
    "        \"\"\"Chat history.\"\"\"\n",
    "        if self.chat:\n",
    "            return self.chat._history\n",
    "        return []\n",
    "\n",
    "    def _generate(\n",
    "        self, messages: List[BaseMessage], stop: Optional[List[str]] = None\n",
    "    ) -> ChatResult:\n",
    "        if len(messages) != 1:\n",
    "            raise ValueError(\n",
    "                \"You should send exactly one message to the chat each turn.\"\n",
    "            )\n",
    "        if not self.chat:\n",
    "            raise ValueError(\"You should start_chat first!\")\n",
    "        response = self.chat.send_message(messages[0].content)\n",
    "        return self._response_to_chat_results(response, stop=stop)\n",
    "\n",
    "    async def _agenerate(\n",
    "        self, messages: List[BaseMessage], stop: Optional[List[str]] = None\n",
    "    ) -> ChatResult:\n",
    "        raise NotImplementedError(\n",
    "            \"\"\"Vertex AI doesn't support async requests at the moment.\"\"\"\n",
    "        )\n",
    "\n",
    "class VertexEmbeddings(Embeddings, BaseModel):\n",
    "    \"\"\"Wrapper around Vertex AI large language models embeddings API.\n",
    "\n",
    "    To use, you should have the\n",
    "    ``google.cloud.aiplatform.private_preview.language_models`` python package\n",
    "    installed.\n",
    "    \"\"\"\n",
    "    model_name: str = \"textembedding-gecko@001\"\n",
    "    \"\"\"Model name to use.\"\"\"\n",
    "\n",
    "    model: Any\n",
    "    requests_per_minute: int = 15\n",
    "\n",
    "\n",
    "    @root_validator()\n",
    "    def validate_environment(cls, values: Dict) -> Dict:\n",
    "        \"\"\"Validate that the python package exists in environment.\"\"\"\n",
    "        try:\n",
    "            from vertexai.preview.language_models import TextEmbeddingModel\n",
    "\n",
    "        except ImportError:\n",
    "            raise ValueError(\n",
    "                \"Could not import Vertex AI LLM python package. \"\n",
    "            )\n",
    "\n",
    "        try:\n",
    "            values[\"model\"] = TextEmbeddingModel\n",
    "\n",
    "        except AttributeError:\n",
    "            raise ValueError(\n",
    "                \"Could not set Vertex Text Model client.\"\n",
    "            )\n",
    "\n",
    "        return values\n",
    "\n",
    "    class Config:\n",
    "        \"\"\"Configuration for this pydantic object.\"\"\"\n",
    "\n",
    "        extra = Extra.forbid\n",
    "\n",
    "    def embed_documents(self, texts: List[str]) -> List[List[float]]:\n",
    "      \"\"\"Call Vertex LLM embedding endpoint for embedding docs\n",
    "      Args:\n",
    "          texts: The list of texts to embed.\n",
    "      Returns:\n",
    "          List of embeddings, one for each text.\n",
    "      \"\"\"\n",
    "      self.model = self.model.from_pretrained(self.model_name)\n",
    "\n",
    "      limiter = rate_limit(self.requests_per_minute)\n",
    "      results = []\n",
    "      docs = list(texts)\n",
    "\n",
    "      while docs:\n",
    "        # Working in batches of 2 because the API apparently won't let\n",
    "        # us send more than 2 documents per request to get embeddings.\n",
    "        head, docs = docs[:2], docs[2:]\n",
    "        # print(f'Sending embedding request for: {head!r}')\n",
    "        chunk = self.model.get_embeddings(head)\n",
    "        results.extend(chunk)\n",
    "        next(limiter)\n",
    "\n",
    "      return [r.values for r in results]\n",
    "\n",
    "    def embed_query(self, text: str) -> List[float]:\n",
    "      \"\"\"Call Vertex LLM embedding endpoint for embedding query text.\n",
    "      Args:\n",
    "        text: The text to embed.\n",
    "      Returns:\n",
    "        Embedding for the text.\n",
    "      \"\"\"\n",
    "      single_result = self.embed_documents([text])\n",
    "      return single_result[0]"
   ]
  },
  {
   "cell_type": "markdown",
   "id": "69defbab-46a4-4d7a-a912-7f70f3e9e6ec",
   "metadata": {
    "tags": []
   },
   "source": [
    "# Store dataset in bigquery"
   ]
  },
  {
   "cell_type": "code",
   "execution_count": null,
   "id": "1706d350-ddb9-40ed-9ef2-47123056f19b",
   "metadata": {},
   "outputs": [],
   "source": [
    "!pip install pandas-gbq"
   ]
  },
  {
   "cell_type": "code",
   "execution_count": 14,
   "id": "cd22cfdd-3295-4924-b234-641d23f039b6",
   "metadata": {
    "tags": []
   },
   "outputs": [],
   "source": [
    "import pandas as pd\n",
    "from google.cloud import bigquery"
   ]
  },
  {
   "cell_type": "code",
   "execution_count": 12,
   "id": "aba27f10-b734-47d7-8d44-2af19934d3f4",
   "metadata": {
    "tags": []
   },
   "outputs": [],
   "source": [
    "# Specify the bucket and blob name\n",
    "bucket_name = \"lloyds-genai24lon-2701-bucket\"\n",
    "blob_name = \"summaries//fos_summary_1.csv.csv\"\n",
    "filename = \"lloyds-genai24lon-2701-bucket/summaries/fos_summary_1.csv\"\n",
    "# Read the downloaded file as a pandas dataframe\n",
    "df = pd.read_csv(f'gs://{filename}')"
   ]
  },
  {
   "cell_type": "code",
   "execution_count": 13,
   "id": "60c6f6b3-5055-4a67-a498-11b5d9fe075a",
   "metadata": {
    "tags": []
   },
   "outputs": [
    {
     "data": {
      "text/html": [
       "<div>\n",
       "<style scoped>\n",
       "    .dataframe tbody tr th:only-of-type {\n",
       "        vertical-align: middle;\n",
       "    }\n",
       "\n",
       "    .dataframe tbody tr th {\n",
       "        vertical-align: top;\n",
       "    }\n",
       "\n",
       "    .dataframe thead th {\n",
       "        text-align: right;\n",
       "    }\n",
       "</style>\n",
       "<table border=\"1\" class=\"dataframe\">\n",
       "  <thead>\n",
       "    <tr style=\"text-align: right;\">\n",
       "      <th></th>\n",
       "      <th>Unnamed: 0</th>\n",
       "      <th>file_name</th>\n",
       "      <th>text_summary</th>\n",
       "      <th>id</th>\n",
       "      <th>date</th>\n",
       "      <th>result</th>\n",
       "    </tr>\n",
       "  </thead>\n",
       "  <tbody>\n",
       "    <tr>\n",
       "      <th>0</th>\n",
       "      <td>0</td>\n",
       "      <td>DRN-1074996_2020-04-15</td>\n",
       "      <td>Mr. A's car was stolen, and the thief was conv...</td>\n",
       "      <td>DRN-1074996</td>\n",
       "      <td>2020-04-15</td>\n",
       "      <td>Mr. A's car was stolen, and the thief was conv...</td>\n",
       "    </tr>\n",
       "    <tr>\n",
       "      <th>1</th>\n",
       "      <td>1</td>\n",
       "      <td>DRN-2081709_2020-08-18</td>\n",
       "      <td>Mrs. T complained that AXA France IARD missold...</td>\n",
       "      <td>DRN-2081709</td>\n",
       "      <td>2020-08-18</td>\n",
       "      <td>Mrs. T complained that AXA France IARD missold...</td>\n",
       "    </tr>\n",
       "    <tr>\n",
       "      <th>2</th>\n",
       "      <td>2</td>\n",
       "      <td>DRN-1645227_2020-08-12</td>\n",
       "      <td>Company S complained about errors made by HPS...</td>\n",
       "      <td>DRN-1645227</td>\n",
       "      <td>2020-08-12</td>\n",
       "      <td>Company S complained about errors made by HPS...</td>\n",
       "    </tr>\n",
       "    <tr>\n",
       "      <th>3</th>\n",
       "      <td>3</td>\n",
       "      <td>DRN-2202979_2020-11-13</td>\n",
       "      <td>Mrs. R alleges that an interestonly mortgage ...</td>\n",
       "      <td>DRN-2202979</td>\n",
       "      <td>2020-11-13</td>\n",
       "      <td>Mrs. R alleges that an interestonly mortgage ...</td>\n",
       "    </tr>\n",
       "    <tr>\n",
       "      <th>4</th>\n",
       "      <td>4</td>\n",
       "      <td>DRN-1624150_2020-05-04</td>\n",
       "      <td>Mr. W filed a chargeback claim with Barclays a...</td>\n",
       "      <td>DRN-1624150</td>\n",
       "      <td>2020-05-04</td>\n",
       "      <td>Mr. W filed a chargeback claim with Barclays a...</td>\n",
       "    </tr>\n",
       "  </tbody>\n",
       "</table>\n",
       "</div>"
      ],
      "text/plain": [
       "   Unnamed: 0               file_name  \\\n",
       "0           0  DRN-1074996_2020-04-15   \n",
       "1           1  DRN-2081709_2020-08-18   \n",
       "2           2  DRN-1645227_2020-08-12   \n",
       "3           3  DRN-2202979_2020-11-13   \n",
       "4           4  DRN-1624150_2020-05-04   \n",
       "\n",
       "                                        text_summary           id        date  \\\n",
       "0  Mr. A's car was stolen, and the thief was conv...  DRN-1074996  2020-04-15   \n",
       "1  Mrs. T complained that AXA France IARD missold...  DRN-2081709  2020-08-18   \n",
       "2   Company S complained about errors made by HPS...  DRN-1645227  2020-08-12   \n",
       "3   Mrs. R alleges that an interestonly mortgage ...  DRN-2202979  2020-11-13   \n",
       "4  Mr. W filed a chargeback claim with Barclays a...  DRN-1624150  2020-05-04   \n",
       "\n",
       "                                              result  \n",
       "0  Mr. A's car was stolen, and the thief was conv...  \n",
       "1  Mrs. T complained that AXA France IARD missold...  \n",
       "2   Company S complained about errors made by HPS...  \n",
       "3   Mrs. R alleges that an interestonly mortgage ...  \n",
       "4  Mr. W filed a chargeback claim with Barclays a...  "
      ]
     },
     "execution_count": 13,
     "metadata": {},
     "output_type": "execute_result"
    }
   ],
   "source": [
    "df.head()"
   ]
  },
  {
   "cell_type": "code",
   "execution_count": 18,
   "id": "a7cd55e4-eff5-4a49-b166-ad741d81f7f8",
   "metadata": {
    "tags": []
   },
   "outputs": [
    {
     "name": "stderr",
     "output_type": "stream",
     "text": [
      "/var/tmp/ipykernel_17025/4201344609.py:7: FutureWarning: to_gbq is deprecated and will be removed in a future version. Please use pandas_gbq.to_gbq instead: https://pandas-gbq.readthedocs.io/en/latest/api.html#pandas_gbq.to_gbq\n",
      "  df.to_gbq(f'{project_id}.{dataset_id}.{table_id}', if_exists='replace')\n",
      "100%|██████████| 1/1 [00:00<00:00, 13842.59it/s]\n"
     ]
    }
   ],
   "source": [
    "# Set the project ID, dataset ID, and table ID\n",
    "project_id = 'lloyds-genai24lon-2701'\n",
    "dataset_id = 'lgb_hackathon_2024'\n",
    "table_id = 'fos_summary_1'\n",
    "\n",
    "# Save the dataframe to the BigQuery table\n",
    "df.to_gbq(f'{project_id}.{dataset_id}.{table_id}', if_exists='replace')"
   ]
  },
  {
   "cell_type": "markdown",
   "id": "602b91b5-6ca5-4194-97ac-fe9df28a53bc",
   "metadata": {},
   "source": [
    "## Create input dataset"
   ]
  },
  {
   "cell_type": "code",
   "execution_count": 19,
   "id": "a22cf5c0-c690-48df-ac79-2085ee7e4b9a",
   "metadata": {
    "tags": []
   },
   "outputs": [],
   "source": [
    "REQUESTS_PER_MINUTE = 100\n",
    "\n",
    "llm = VertexLLM(\n",
    "    model_name='text-bison@001',\n",
    "    max_output_tokens=1024,\n",
    "    temperature=0.1,\n",
    "    top_p=0.8,\n",
    "    top_k=40,\n",
    "    verbose=True,\n",
    ")\n",
    "\n",
    "chat = VertexChat()\n",
    "\n",
    "mchat = VertexMultiTurnChat(max_output_tokens=1024)\n",
    "\n",
    "embedding = VertexEmbeddings(requests_per_minute=REQUESTS_PER_MINUTE)"
   ]
  },
  {
   "cell_type": "code",
   "execution_count": 24,
   "id": "d307bb41-dbfe-4c03-b467-bfa8291b9445",
   "metadata": {
    "tags": []
   },
   "outputs": [],
   "source": [
    "from google.cloud import bigquery\n",
    "from google.cloud.bigquery import Client\n",
    "\n",
    "client = Client(project=PROJECT_ID)"
   ]
  },
  {
   "cell_type": "code",
   "execution_count": 26,
   "id": "b464f6f8-0dee-4a53-befb-812902b4963e",
   "metadata": {
    "tags": []
   },
   "outputs": [],
   "source": [
    "from sqlalchemy import *\n",
    "from sqlalchemy.engine import create_engine\n",
    "from sqlalchemy.schema import *\n",
    "import pandas as pd"
   ]
  },
  {
   "cell_type": "code",
   "execution_count": 33,
   "id": "99da2201-4361-42be-8f4d-0e84de7f2d26",
   "metadata": {
    "tags": []
   },
   "outputs": [],
   "source": [
    "PROJECT_ID = 'lloyds-genai24lon-2701'\n",
    "DATASET_ID = 'lgb_hackathon_2024'\n",
    "table_name = 'summaries'"
   ]
  },
  {
   "cell_type": "code",
   "execution_count": 30,
   "id": "2e1f5b5f-d844-4036-b1fa-2c54fe97f689",
   "metadata": {
    "tags": []
   },
   "outputs": [
    {
     "name": "stdout",
     "output_type": "stream",
     "text": [
      "<google.cloud.bigquery.table._EmptyRowIterator object at 0x7f61421436d0>\n"
     ]
    }
   ],
   "source": [
    "query = \"\"\"\n",
    "create or replace table `{PROJECT_ID}.{dataset_id}.summaries`\n",
    "as\n",
    "select text_summary\n",
    "from `lloyds-genai24lon-2701.lgb_hackathon_2024.fos_summary_1`\n",
    "\"\"\".format(\n",
    "    PROJECT_ID=PROJECT_ID, dataset_id=DATASET_ID\n",
    ")\n",
    "query_job = client.query(query)\n",
    "print(query_job.result())"
   ]
  },
  {
   "cell_type": "code",
   "execution_count": 31,
   "id": "6b0bdc9e-f865-4ae1-be7a-10820c48a501",
   "metadata": {
    "tags": []
   },
   "outputs": [],
   "source": [
    "table_uri = f\"bigquery://{PROJECT_ID}/{DATASET_ID}\"\n",
    "engine = create_engine(f\"bigquery://{PROJECT_ID}/{DATASET_ID}\")"
   ]
  },
  {
   "cell_type": "code",
   "execution_count": 34,
   "id": "f669eb27-3eaa-47cf-a9bc-718678363857",
   "metadata": {
    "tags": []
   },
   "outputs": [
    {
     "name": "stderr",
     "output_type": "stream",
     "text": [
      "/var/tmp/ipykernel_17025/4098976475.py:2: RemovedIn20Warning: Deprecated API features detected! These feature(s) are not compatible with SQLAlchemy 2.0. To prevent incompatible upgrades prior to updating applications, ensure requirements files are pinned to \"sqlalchemy<2.0\". Set environment variable SQLALCHEMY_WARN_20=1 to show all deprecation warnings.  Set environment variable SQLALCHEMY_SILENCE_UBER_WARNING=1 to silence this message. (Background on SQLAlchemy 2.0 at: https://sqlalche.me/e/b8d9)\n",
      "  engine.execute(query).first()\n"
     ]
    },
    {
     "data": {
      "text/plain": [
       "(\"Mr. H lost his TSB account card and called to cancel it, but TSB canceled the wrong card, resulting in fraudulent transactions and inconvenience. TSB ... (297 characters truncated) ... ensation, totaling £100. The Ombudsman found that TSB's mistake had a fair impact on Mr. H and Miss A and that the compensation offer was reasonable.\",)"
      ]
     },
     "execution_count": 34,
     "metadata": {},
     "output_type": "execute_result"
    }
   ],
   "source": [
    "query=f\"\"\"SELECT * FROM `{project_id}.{dataset_id}.{table_name}`\"\"\"\n",
    "engine.execute(query).first()"
   ]
  },
  {
   "cell_type": "markdown",
   "id": "943a6639-b4c8-4b89-82ea-b68e197e66f0",
   "metadata": {},
   "source": [
    "# Define langchain prompts"
   ]
  },
  {
   "cell_type": "code",
   "execution_count": 35,
   "id": "a9f7446e-2f3f-4898-b3a7-9781927785df",
   "metadata": {
    "tags": []
   },
   "outputs": [],
   "source": [
    "from langchain import SQLDatabase, SQLDatabaseChain\n",
    "from langchain.prompts.prompt import PromptTemplate\n",
    "\n",
    "def bq_qna(question):\n",
    "  #create SQLDatabase instance from BQ engine\n",
    "  db = SQLDatabase(engine=engine,metadata=MetaData(bind=engine),include_tables=[table_name])\n",
    "  # db = SQLDatabase(engine=engine,metadata=MetaData(bind=engine),include_tables=['bigquery-public-data.iowa_liquor_sales.sales'])\n",
    "\n",
    "  #create SQL DB Chain with the initialized LLM and above SQLDB instance\n",
    "  db_chain = SQLDatabaseChain.from_llm(llm, db, verbose=True, return_intermediate_steps=True)\n",
    "\n",
    "  #Define prompt for BigQuery SQL\n",
    "  _googlesql_prompt = \"\"\"You are a BigQuery SQL expert. Given an input question, first create a syntactically correct BigQuery query to run, then look at the results of the query and return the answer to the input question.\n",
    "  Unless the user specifies in the question a specific number of examples to obtain, query for at most {top_k} results using the LIMIT clause as per BigQuery SQL. You can order the results to return the most informative data in the database.\n",
    "  Never query for all columns from a table. You must query only the columns that are needed to answer the question. Wrap each column name in backticks (`) to denote them as delimited identifiers.\n",
    "  Pay attention to use only the column names you can see in the tables below. Be careful to not query for columns that do not exist. Also, pay attention to which column is in which table.\n",
    "  Use the following format:\n",
    "  Question: \"Question here\"\n",
    "  SQLQuery: \"SQL Query to run\"\n",
    "  SQLResult: \"Result of the SQLQuery\"\n",
    "  Answer: \"Final answer here\"\n",
    "  Only use the following tables:\n",
    "  {table_info}\n",
    "\n",
    "  If someone asks for specific month, use ActivityDate between current month's start date and current month's end date\n",
    "\n",
    "  Question: {input}\"\"\"\n",
    "\n",
    "  BigQuerySQL_PROMPT = PromptTemplate(\n",
    "      input_variables=[\"input\", \"table_info\", \"top_k\"],\n",
    "      template=_googlesql_prompt,\n",
    "  )\n",
    "\n",
    "  #passing question to the prompt template\n",
    "  final_prompt = BigQuerySQL_PROMPT.format(input=question, table_info=table_name, top_k=10000)\n",
    "\n",
    "  #pass final prompt to SQL Chain\n",
    "  output = db_chain(final_prompt)\n",
    "\n",
    "\n",
    "  return output['result'], output['intermediate_steps'][0]"
   ]
  },
  {
   "cell_type": "code",
   "execution_count": 36,
   "id": "87366a3b-3fa9-4c9a-a5c2-2f5526831f35",
   "metadata": {
    "tags": []
   },
   "outputs": [
    {
     "name": "stdout",
     "output_type": "stream",
     "text": [
      "\n",
      "\n",
      "\u001b[1m> Entering new  chain...\u001b[0m\n",
      "You are a BigQuery SQL expert. Given an input question, first create a syntactically correct BigQuery query to run, then look at the results of the query and return the answer to the input question.\n",
      "  Unless the user specifies in the question a specific number of examples to obtain, query for at most 10000 results using the LIMIT clause as per BigQuery SQL. You can order the results to return the most informative data in the database.\n",
      "  Never query for all columns from a table. You must query only the columns that are needed to answer the question. Wrap each column name in backticks (`) to denote them as delimited identifiers.\n",
      "  Pay attention to use only the column names you can see in the tables below. Be careful to not query for columns that do not exist. Also, pay attention to which column is in which table.\n",
      "  Use the following format:\n",
      "  Question: \"Question here\"\n",
      "  SQLQuery: \"SQL Query to run\"\n",
      "  SQLResult: \"Result of the SQLQuery\"\n",
      "  Answer: \"Final answer here\"\n",
      "  Only use the following tables:\n",
      "  summaries\n",
      "\n",
      "  If someone asks for specific month, use ActivityDate between current month's start date and current month's end date\n",
      "\n",
      "  Question: Give me account card name\n",
      "SQLQuery:\u001b[32;1m\u001b[1;3mSELECT text_summary FROM summaries\u001b[0m\n",
      "SQLResult: \u001b[33;1m\u001b[1;3m[('Mr. H lost his TSB account card and called to cancel it, but TSB canceled the wrong card, resulting in fraudulent transactions and inconvenience. TSB apologized and offered £50 compensation, which was deemed appropriate by the investigator. However, Mr. H and Miss A disputed this, claiming the...',), ('Mrs. E claims she was missold PPI in 1996, but an adjudicator previously dismissed her complaint. The ombudsman reviewed the evidence and found that Mrs. E had enough information to make an informed decision about the PPI. The credit agreement she signed included a section on PPI with an option...',), (\"Miss R complained about delays in processing her voluntary termination of a hire purchase agreement with PSA Finance UK Limited, resulting in additional costs and inconvenience. PSA acknowledged some delays but argued that Miss R's absence overseas contributed to the issue. The investigator...\",), ('Mr. C filed a complaint against Inter Partner Assistance SA (IPA) for mishandling his travel insurance claim after a heart attack. IPA initially denied coverage due to a preexisting condition but later apologized and agreed to pay medical costs. However, Mr. C remained dissatisfied with the...',), (' Company S complained about errors made by HPS Limited in arranging its group private medical insurance. HPS Limited failed to include a preexisting medical condition (PEMC) and enroll a dependent on the policy. HPS Limited apologized, worked with the insurer to remove the PEMC exclusion, and...',), (\"Mrs. V's insurance claim was initially delayed due to difficulties obtaining CCTV footage. Aviva deemed the car a total loss due to the high repair costs, which Mr. V disputed. The complaint focused on whether the suspension damage warranted a total loss declaration. The investigator concluded...\",), ('Mr. C filed a complaint against Assurant General Insurance Limited for denying his second claim after initially accepting his first claim. Assurant claimed they canceled his insurance after doubting the validity of his first claim, but Mr. C argued he was unaware of the cancellation. The...',), ('Miss D lost £3,696.74 in a scam after being tricked into sending a Faster Payments transfer. Lloyds Bank declined to refund her under the Contingent Reimbursement Model Code, claiming she failed to meet her requisite level of care. An investigator found that Lloyds had not established that Miss...',), ('Mr. H complained that Elevate Credit (Sunny) lent him money irresponsibly. The Ombudsman found that Sunny should have stopped lending to Mr. H after the eighth loan, as the pattern of borrowing suggested dependence. Sunny argued that the loans were affordable and Mr. H did not inform them of...',), ('Miss N complained to the Financial Ombudsman Service after being misinformed by RBS that she was due two payments for missold PPI when she was only due one. RBS acknowledged the error and apologized, but the adjudicator did not uphold the complaint as Miss N was not entitled to a second payment....',), (\"Mr. N complained that Moneybox missold him a Lifetime ISA, but the Ombudsman found that Moneybox did not provide advice and made it clear that it was Mr. N's responsibility to understand the account terms. The Ombudsman noted that the government sets the rules for Lifetime ISAs, including the...\",), (' Mr. S complained that a payment arrangement with Halifax to miss two mortgage payments negatively impacted his credit file, affecting his property investment business. Halifax initially denied providing a clear warning about the impact on his credit file, but later found a call recording that...',), ('Miss C and Mr S filed a complaint against Legal & General Insurance (L&G) for unsatisfactory handling of their fire damage claim. L&G initially offered £250 in compensation, which was deemed insufficient by the complainants. An investigation upheld the complaint, recommending an additional £500...',), (' Mr. S disputes unauthorized transactions on his Barclays account, including ATM withdrawals and a payment to a car hire company (G). Barclays initially held Mr. S liable for all transactions, but an investigation by the Financial Ombudsman Service (FOS) found that the ATM withdrawals were...',), (\" Mrs. R alleges that an interestonly mortgage recommended by Ashwood Law LLP was unsuitable due to property overvaluation, lack of repayment strategy, and undisclosed consequences of selfcertifying income. Ashwood claims the lender's independent valuation was used to determine the loan amount,...\",), ('Miss S complained that Lending Stream provided her with unaffordable loans. The adjudicator initially dismissed her complaint, but she disagreed, arguing that Lending Stream should have recognized her financial struggles. After reviewing the evidence, the ombudsman determined that Lending Stream...',), (\"Mr. A's car was stolen, and the thief was convicted. However, UKI recorded the claim as a fault claim because they could not recover all costs from the third party due to lack of information from the police. The investigator and Ombudsman agree that UKI acted fairly in recording the claim as a...\",), (\"Mrs. W complained to Revolut about an unauthorized £10.29 transaction. Revolut initially refused to refund her, claiming no fraudulent activity was detected. An investigation revealed that Revolut failed to properly investigate the dispute, despite Mrs. W's clear denial of authorization. The...\",), (\"Mr. and Mrs. F's complaint against GE Money for rejecting their claims under the Consumer Credit Act was investigated. The complaint was not upheld due to the claims being timebarred under the Limitation Act. The court determined that the cause of action accrued in May 2002 when the purchase...\",), (\"Mrs. M complained about Zurich Insurance's handling of her flood claim, including issues with contractors, drainage, and storage costs. Zurich agreed to a cash settlement and investigated the claim, but Mrs. M was dissatisfied with the work carried out. The Ombudsman found that Zurich had...\",), (\"Mr. B's Barclaycard account was closed due to his Spanish address, despite providing a UK address. The investigator found that Barclaycard had sent closure notices to Mr. B's Spanish address, which was reasonable as it was his registered address. The investigator concluded that Barclaycard had...\",), (\"Ms. P complained about First Direct's handling of her regular savings account (RSA) application, including delayed notification of account opening and inflexible payment dates. First Direct denied wrongdoing, citing timely account opening and clear terms and conditions. The ombudsman found that...\",), ('Mr. H complained that Barclays Bank missold him a loan in 2015, claiming it was unaffordable and that he was promised a preferential interest rate. Barclays denied these claims, stating that Mr. H was preapproved for the loan and that his financial information was considered. The investigator...',), (' Mr. P lost money in a cryptocurrency investment scam after being tricked by a person he met on a dating app. Lloyds Bank declined to refund the lost funds, citing that the payments were authorized by Mr. P and did not meet the criteria for reimbursement under the Contingent Reimbursement Model...',), ('Mr. and Mrs. J filed a complaint against Fairmead Insurance for mishandling their home insurance claim. They alleged that Fairmead failed to investigate their claim properly, did not inform them of its denial, and handled their claim poorly. Fairmead denied liability, claiming the damage...',), (\"Ms. C alleges that H&T Pawnbrokers prevented her from making loan payments, leading to a default notice. H&T claims they attempted numerous contacts and provided written notices before defaulting the account. Despite Ms. C's claims of system issues, H&T has no record of completed calls on the...\",), (\"Mr. R's loan was mistakenly placed with a debt collection agency by Coop, leading to his mortgage application being declined. Coop acknowledged the error and returned the loan, but Mr. R claims the compensation offered is insufficient. The investigator and ombudsman found that Coop had corrected...\",), (\"Mr. and Mrs. G complained to the Financial Ombudsman Service after Bank of Scotland (BOS) transferred an international payment to their son's incorrect bank account. BOS admitted responsibility for the error but declined to refund the payment, as it reached the intended recipient. The Ombudsman...\",), (\"Mr. W filed a chargeback claim with Barclays after experiencing issues with work done on his vehicle by company D. Barclays initially rejected the claim due to D's offer to rectify the problems, but later mislaid Mr. W's evidence and apologized with a £25 payment. Despite Mr. W's dissatisfaction...\",), ('A limited company, represented by Mr. L, filed a complaint against Barclays Bank for terminating their banking facilities, claiming financial loss and requesting £99,000 compensation. Barclays stated they sent a notice to close in June 2020 due to commercial reasons. The investigator found that...',), (\"Mr. W complained that Sporting Index Limited (SIL) unfairly withheld his winnings from a new account promotion. The promotion offered £100 to bet with, with the stipulation that any losses over £100 would be the customer's liability and any net profits would be theirs to keep. Mr. W made £70.83...\",), ('Mr. B attempted to make a pension contribution on April 3, 2020, but it failed due to an unknown issue. Vanguard did not notify him of the failed payment, and it remained pending until it was manually canceled on April 6th, missing the tax year deadline. Vanguard claims it is not at fault as the...',), (\"Miss H's NS&I account was suspended due to incorrect security questions, delaying a withdrawal for rent payment. NS&I acknowledged their error and processed the withdrawal the same day. Miss H complained about the distress caused, but the Ombudsman found that NS&I's £50 compensation was fair as...\",), (' Mrs. A claims HSBC failed to refund credit card payments lost to an investment scam. HSBC declined her claim under Section 75 of the Consumer Credit Act, arguing the deposits were not for goods or services. The Ombudsman found that the deposits were financed by the credit card agreement and...',), ('Mr. S complained that Lloyds Bank missold him a PPI policy in 1998. The adjudicator initially dismissed the complaint, but Mr. S appealed. The Ombudsman reviewed the evidence and determined that it was likely that Mr. S was informed that the PPI was optional and agreed to purchase it. While...',), (\"Mr. R complained that Lex Autolease charged him an extra month's rental when he terminated his finance agreement early. The Ombudsman reviewed the evidence and determined that Lex was justified in charging the extra rental because it was due when the early termination fees were received. The...\",), ('Mr. and Mrs. G filed a complaint against Triton Insurance Brokers Ltd. for mishandling their insurance renewal, resulting in errors and an additional premium charge. Despite requesting a policy lapse and refund, Triton failed to respond. The Financial Ombudsman upheld the complaint, ordering...',), (\"Mr. and Mrs. A filed a complaint against Royal and Sun Alliance Insurance (RSA) for delays in sending an engineer and dissatisfaction with the engineer's work. RSA declined the claim, citing policy exclusions for wear and tear and external leaks. The ombudsman reviewed the evidence and concluded...\",), ('Mr. M complained that Volkswagen Financial Services (VWFS) misrepresented a finance agreement, leading him to believe there was no final balloon payment or additional charges for paint protection and warranty. The Financial Ombudsman Service reviewed the evidence and determined that the...',), ('Miss D complained to the Financial Ombudsman Service about mistakes made by Society of Lloyds regarding her motor insurance policy. Lloyds failed to upload her policy details to the relevant database, leading to the police suspecting her of driving without insurance. Lloyds also mistakenly...',), (\" Miss C purchased a used car through a hire purchase agreement from Oodle Financial Services in September 2019, but experienced various issues with the car's quality. An independent inspection revealed frontal damage to the car, which Miss C believes was present at the point of sale. Oodle...\",), (\"Mr. J's Barclaycard account was closed due to his overseas residency, as per the account terms. Barclaycard provided evidence of notice sent to Mr. J's overseas address, but he claims not to have received it. Despite this, the Ombudsman found that Barclaycard followed proper procedures and sent...\",), ('Mrs. A complained that Bank of Scotland missold her a PPI policy in 2002. The complaint was not upheld by the adjudicator, and Mrs. A appealed. The Ombudsman reviewed the evidence and determined that the policy was not missold because Mrs. A had chosen to take it out and had received the...',), ('Ms. P complained that J.D. Williams irresponsibly lent to her, resulting in excessive interest and late payment charges. The adjudicator partially upheld her complaint, finding that J.D. Williams should have realized she was experiencing financial difficulty and stopped increasing her credit...',), (\"Mr. M complained that Help Your Claim (HYC) charged him for a successful PPI claim despite not receiving compensation due to an offset against his IVA debt. HYC's original terms only specified a fee on compensation received, which Mr. M did not receive. HYC updated their terms to include...\",), ('Mrs. T complained that AXA France IARD missold her payment protection insurance (PPI) in 1996. AXA denied liability, claiming Mrs. T had a fair choice to purchase the PPI and was provided with sufficient information to make an informed decision. The ombudsman considered the evidence and...',), (\"Ms. C complained that Santander missold her a PPI policy in 2002, which was unsuitable for her selfemployment status. The adjudicator upheld her complaint, finding that Santander failed to adequately explain the policy's limitations. Santander disagreed, but the Ombudsman upheld the complaint,...\",), (\"Mr. M's claim under his extended motor warranty was denied by Volkswagen Versicherung Aktiengesellschaft due to exceeding the annual mileage limit. The investigator and ombudsman agreed that Volkswagen acted fairly as the warranty clearly stated the limit and Mr. M had exceeded it by over 8,000...\",), (' A customer (Mrs. L) complained about being missold a payment protection insurance (PPI) policy in 1999. The insurer (AXA) accepted responsibility for the sale, but denied wrongdoing. The complaint was not upheld because the adjudicator found that Mrs. L would likely have still purchased the...',), ('Mr. B complained to the Financial Ombudsman Service about Accredited Insurance (Europe) Limited (AIE) for failing to promptly notify him of a claim against him and for refusing to fully indemnify him. AIE initially refused to indemnify Mr. B due to his failure to report the accident, but later...',)]\u001b[0m\n",
      "Answer:\u001b[32;1m\u001b[1;3mTSB\u001b[0m\n",
      "\u001b[1m> Finished chain.\u001b[0m\n"
     ]
    },
    {
     "data": {
      "text/plain": [
       "('TSB',\n",
       " {'input': 'You are a BigQuery SQL expert. Given an input question, first create a syntactically correct BigQuery query to run, then look at the results of the query and return the answer to the input question.\\n  Unless the user specifies in the question a specific number of examples to obtain, query for at most 10000 results using the LIMIT clause as per BigQuery SQL. You can order the results to return the most informative data in the database.\\n  Never query for all columns from a table. You must query only the columns that are needed to answer the question. Wrap each column name in backticks (`) to denote them as delimited identifiers.\\n  Pay attention to use only the column names you can see in the tables below. Be careful to not query for columns that do not exist. Also, pay attention to which column is in which table.\\n  Use the following format:\\n  Question: \"Question here\"\\n  SQLQuery: \"SQL Query to run\"\\n  SQLResult: \"Result of the SQLQuery\"\\n  Answer: \"Final answer here\"\\n  Only use the following tables:\\n  summaries\\n\\n  If someone asks for specific month, use ActivityDate between current month\\'s start date and current month\\'s end date\\n\\n  Question: Give me account card name\\nSQLQuery:SELECT text_summary FROM summaries\\nSQLResult: [(\\'Mr. H lost his TSB account card and called to cancel it, but TSB canceled the wrong card, resulting in fraudulent transactions and inconvenience. TSB apologized and offered £50 compensation, which was deemed appropriate by the investigator. However, Mr. H and Miss A disputed this, claiming the...\\',), (\\'Mrs. E claims she was missold PPI in 1996, but an adjudicator previously dismissed her complaint. The ombudsman reviewed the evidence and found that Mrs. E had enough information to make an informed decision about the PPI. The credit agreement she signed included a section on PPI with an option...\\',), (\"Miss R complained about delays in processing her voluntary termination of a hire purchase agreement with PSA Finance UK Limited, resulting in additional costs and inconvenience. PSA acknowledged some delays but argued that Miss R\\'s absence overseas contributed to the issue. The investigator...\",), (\\'Mr. C filed a complaint against Inter Partner Assistance SA (IPA) for mishandling his travel insurance claim after a heart attack. IPA initially denied coverage due to a preexisting condition but later apologized and agreed to pay medical costs. However, Mr. C remained dissatisfied with the...\\',), (\\' Company S complained about errors made by HPS Limited in arranging its group private medical insurance. HPS Limited failed to include a preexisting medical condition (PEMC) and enroll a dependent on the policy. HPS Limited apologized, worked with the insurer to remove the PEMC exclusion, and...\\',), (\"Mrs. V\\'s insurance claim was initially delayed due to difficulties obtaining CCTV footage. Aviva deemed the car a total loss due to the high repair costs, which Mr. V disputed. The complaint focused on whether the suspension damage warranted a total loss declaration. The investigator concluded...\",), (\\'Mr. C filed a complaint against Assurant General Insurance Limited for denying his second claim after initially accepting his first claim. Assurant claimed they canceled his insurance after doubting the validity of his first claim, but Mr. C argued he was unaware of the cancellation. The...\\',), (\\'Miss D lost £3,696.74 in a scam after being tricked into sending a Faster Payments transfer. Lloyds Bank declined to refund her under the Contingent Reimbursement Model Code, claiming she failed to meet her requisite level of care. An investigator found that Lloyds had not established that Miss...\\',), (\\'Mr. H complained that Elevate Credit (Sunny) lent him money irresponsibly. The Ombudsman found that Sunny should have stopped lending to Mr. H after the eighth loan, as the pattern of borrowing suggested dependence. Sunny argued that the loans were affordable and Mr. H did not inform them of...\\',), (\\'Miss N complained to the Financial Ombudsman Service after being misinformed by RBS that she was due two payments for missold PPI when she was only due one. RBS acknowledged the error and apologized, but the adjudicator did not uphold the complaint as Miss N was not entitled to a second payment....\\',), (\"Mr. N complained that Moneybox missold him a Lifetime ISA, but the Ombudsman found that Moneybox did not provide advice and made it clear that it was Mr. N\\'s responsibility to understand the account terms. The Ombudsman noted that the government sets the rules for Lifetime ISAs, including the...\",), (\\' Mr. S complained that a payment arrangement with Halifax to miss two mortgage payments negatively impacted his credit file, affecting his property investment business. Halifax initially denied providing a clear warning about the impact on his credit file, but later found a call recording that...\\',), (\\'Miss C and Mr S filed a complaint against Legal & General Insurance (L&G) for unsatisfactory handling of their fire damage claim. L&G initially offered £250 in compensation, which was deemed insufficient by the complainants. An investigation upheld the complaint, recommending an additional £500...\\',), (\\' Mr. S disputes unauthorized transactions on his Barclays account, including ATM withdrawals and a payment to a car hire company (G). Barclays initially held Mr. S liable for all transactions, but an investigation by the Financial Ombudsman Service (FOS) found that the ATM withdrawals were...\\',), (\" Mrs. R alleges that an interestonly mortgage recommended by Ashwood Law LLP was unsuitable due to property overvaluation, lack of repayment strategy, and undisclosed consequences of selfcertifying income. Ashwood claims the lender\\'s independent valuation was used to determine the loan amount,...\",), (\\'Miss S complained that Lending Stream provided her with unaffordable loans. The adjudicator initially dismissed her complaint, but she disagreed, arguing that Lending Stream should have recognized her financial struggles. After reviewing the evidence, the ombudsman determined that Lending Stream...\\',), (\"Mr. A\\'s car was stolen, and the thief was convicted. However, UKI recorded the claim as a fault claim because they could not recover all costs from the third party due to lack of information from the police. The investigator and Ombudsman agree that UKI acted fairly in recording the claim as a...\",), (\"Mrs. W complained to Revolut about an unauthorized £10.29 transaction. Revolut initially refused to refund her, claiming no fraudulent activity was detected. An investigation revealed that Revolut failed to properly investigate the dispute, despite Mrs. W\\'s clear denial of authorization. The...\",), (\"Mr. and Mrs. F\\'s complaint against GE Money for rejecting their claims under the Consumer Credit Act was investigated. The complaint was not upheld due to the claims being timebarred under the Limitation Act. The court determined that the cause of action accrued in May 2002 when the purchase...\",), (\"Mrs. M complained about Zurich Insurance\\'s handling of her flood claim, including issues with contractors, drainage, and storage costs. Zurich agreed to a cash settlement and investigated the claim, but Mrs. M was dissatisfied with the work carried out. The Ombudsman found that Zurich had...\",), (\"Mr. B\\'s Barclaycard account was closed due to his Spanish address, despite providing a UK address. The investigator found that Barclaycard had sent closure notices to Mr. B\\'s Spanish address, which was reasonable as it was his registered address. The investigator concluded that Barclaycard had...\",), (\"Ms. P complained about First Direct\\'s handling of her regular savings account (RSA) application, including delayed notification of account opening and inflexible payment dates. First Direct denied wrongdoing, citing timely account opening and clear terms and conditions. The ombudsman found that...\",), (\\'Mr. H complained that Barclays Bank missold him a loan in 2015, claiming it was unaffordable and that he was promised a preferential interest rate. Barclays denied these claims, stating that Mr. H was preapproved for the loan and that his financial information was considered. The investigator...\\',), (\\' Mr. P lost money in a cryptocurrency investment scam after being tricked by a person he met on a dating app. Lloyds Bank declined to refund the lost funds, citing that the payments were authorized by Mr. P and did not meet the criteria for reimbursement under the Contingent Reimbursement Model...\\',), (\\'Mr. and Mrs. J filed a complaint against Fairmead Insurance for mishandling their home insurance claim. They alleged that Fairmead failed to investigate their claim properly, did not inform them of its denial, and handled their claim poorly. Fairmead denied liability, claiming the damage...\\',), (\"Ms. C alleges that H&T Pawnbrokers prevented her from making loan payments, leading to a default notice. H&T claims they attempted numerous contacts and provided written notices before defaulting the account. Despite Ms. C\\'s claims of system issues, H&T has no record of completed calls on the...\",), (\"Mr. R\\'s loan was mistakenly placed with a debt collection agency by Coop, leading to his mortgage application being declined. Coop acknowledged the error and returned the loan, but Mr. R claims the compensation offered is insufficient. The investigator and ombudsman found that Coop had corrected...\",), (\"Mr. and Mrs. G complained to the Financial Ombudsman Service after Bank of Scotland (BOS) transferred an international payment to their son\\'s incorrect bank account. BOS admitted responsibility for the error but declined to refund the payment, as it reached the intended recipient. The Ombudsman...\",), (\"Mr. W filed a chargeback claim with Barclays after experiencing issues with work done on his vehicle by company D. Barclays initially rejected the claim due to D\\'s offer to rectify the problems, but later mislaid Mr. W\\'s evidence and apologized with a £25 payment. Despite Mr. W\\'s dissatisfaction...\",), (\\'A limited company, represented by Mr. L, filed a complaint against Barclays Bank for terminating their banking facilities, claiming financial loss and requesting £99,000 compensation. Barclays stated they sent a notice to close in June 2020 due to commercial reasons. The investigator found that...\\',), (\"Mr. W complained that Sporting Index Limited (SIL) unfairly withheld his winnings from a new account promotion. The promotion offered £100 to bet with, with the stipulation that any losses over £100 would be the customer\\'s liability and any net profits would be theirs to keep. Mr. W made £70.83...\",), (\\'Mr. B attempted to make a pension contribution on April 3, 2020, but it failed due to an unknown issue. Vanguard did not notify him of the failed payment, and it remained pending until it was manually canceled on April 6th, missing the tax year deadline. Vanguard claims it is not at fault as the...\\',), (\"Miss H\\'s NS&I account was suspended due to incorrect security questions, delaying a withdrawal for rent payment. NS&I acknowledged their error and processed the withdrawal the same day. Miss H complained about the distress caused, but the Ombudsman found that NS&I\\'s £50 compensation was fair as...\",), (\\' Mrs. A claims HSBC failed to refund credit card payments lost to an investment scam. HSBC declined her claim under Section 75 of the Consumer Credit Act, arguing the deposits were not for goods or services. The Ombudsman found that the deposits were financed by the credit card agreement and...\\',), (\\'Mr. S complained that Lloyds Bank missold him a PPI policy in 1998. The adjudicator initially dismissed the complaint, but Mr. S appealed. The Ombudsman reviewed the evidence and determined that it was likely that Mr. S was informed that the PPI was optional and agreed to purchase it. While...\\',), (\"Mr. R complained that Lex Autolease charged him an extra month\\'s rental when he terminated his finance agreement early. The Ombudsman reviewed the evidence and determined that Lex was justified in charging the extra rental because it was due when the early termination fees were received. The...\",), (\\'Mr. and Mrs. G filed a complaint against Triton Insurance Brokers Ltd. for mishandling their insurance renewal, resulting in errors and an additional premium charge. Despite requesting a policy lapse and refund, Triton failed to respond. The Financial Ombudsman upheld the complaint, ordering...\\',), (\"Mr. and Mrs. A filed a complaint against Royal and Sun Alliance Insurance (RSA) for delays in sending an engineer and dissatisfaction with the engineer\\'s work. RSA declined the claim, citing policy exclusions for wear and tear and external leaks. The ombudsman reviewed the evidence and concluded...\",), (\\'Mr. M complained that Volkswagen Financial Services (VWFS) misrepresented a finance agreement, leading him to believe there was no final balloon payment or additional charges for paint protection and warranty. The Financial Ombudsman Service reviewed the evidence and determined that the...\\',), (\\'Miss D complained to the Financial Ombudsman Service about mistakes made by Society of Lloyds regarding her motor insurance policy. Lloyds failed to upload her policy details to the relevant database, leading to the police suspecting her of driving without insurance. Lloyds also mistakenly...\\',), (\" Miss C purchased a used car through a hire purchase agreement from Oodle Financial Services in September 2019, but experienced various issues with the car\\'s quality. An independent inspection revealed frontal damage to the car, which Miss C believes was present at the point of sale. Oodle...\",), (\"Mr. J\\'s Barclaycard account was closed due to his overseas residency, as per the account terms. Barclaycard provided evidence of notice sent to Mr. J\\'s overseas address, but he claims not to have received it. Despite this, the Ombudsman found that Barclaycard followed proper procedures and sent...\",), (\\'Mrs. A complained that Bank of Scotland missold her a PPI policy in 2002. The complaint was not upheld by the adjudicator, and Mrs. A appealed. The Ombudsman reviewed the evidence and determined that the policy was not missold because Mrs. A had chosen to take it out and had received the...\\',), (\\'Ms. P complained that J.D. Williams irresponsibly lent to her, resulting in excessive interest and late payment charges. The adjudicator partially upheld her complaint, finding that J.D. Williams should have realized she was experiencing financial difficulty and stopped increasing her credit...\\',), (\"Mr. M complained that Help Your Claim (HYC) charged him for a successful PPI claim despite not receiving compensation due to an offset against his IVA debt. HYC\\'s original terms only specified a fee on compensation received, which Mr. M did not receive. HYC updated their terms to include...\",), (\\'Mrs. T complained that AXA France IARD missold her payment protection insurance (PPI) in 1996. AXA denied liability, claiming Mrs. T had a fair choice to purchase the PPI and was provided with sufficient information to make an informed decision. The ombudsman considered the evidence and...\\',), (\"Ms. C complained that Santander missold her a PPI policy in 2002, which was unsuitable for her selfemployment status. The adjudicator upheld her complaint, finding that Santander failed to adequately explain the policy\\'s limitations. Santander disagreed, but the Ombudsman upheld the complaint,...\",), (\"Mr. M\\'s claim under his extended motor warranty was denied by Volkswagen Versicherung Aktiengesellschaft due to exceeding the annual mileage limit. The investigator and ombudsman agreed that Volkswagen acted fairly as the warranty clearly stated the limit and Mr. M had exceeded it by over 8,000...\",), (\\' A customer (Mrs. L) complained about being missold a payment protection insurance (PPI) policy in 1999. The insurer (AXA) accepted responsibility for the sale, but denied wrongdoing. The complaint was not upheld because the adjudicator found that Mrs. L would likely have still purchased the...\\',), (\\'Mr. B complained to the Financial Ombudsman Service about Accredited Insurance (Europe) Limited (AIE) for failing to promptly notify him of a claim against him and for refusing to fully indemnify him. AIE initially refused to indemnify Mr. B due to his failure to report the accident, but later...\\',)]\\nAnswer:',\n",
       "  'top_k': '5',\n",
       "  'dialect': 'bigquery',\n",
       "  'table_info': '\\nCREATE TABLE `summaries` (\\n\\t`text_summary` STRING\\n)\\n\\n/*\\n3 rows from summaries table:\\ntext_summary\\nMr. H lost his TSB account card and called to cancel it, but TSB canceled the wrong card, resulting \\nMrs. E claims she was missold PPI in 1996, but an adjudicator previously dismissed her complaint. Th\\nMiss R complained about delays in processing her voluntary termination of a hire purchase agreement \\n*/',\n",
       "  'stop': ['\\nSQLResult:']})"
      ]
     },
     "execution_count": 36,
     "metadata": {},
     "output_type": "execute_result"
    }
   ],
   "source": [
    "#Testing 1\n",
    "bq_qna('Give me account card name')"
   ]
  },
  {
   "cell_type": "code",
   "execution_count": null,
   "id": "b4d407c4-2560-4277-8e99-0e8d7c1a87e6",
   "metadata": {},
   "outputs": [],
   "source": []
  }
 ],
 "metadata": {
  "environment": {
   "kernel": "conda-env-pytorch-pytorch",
   "name": "workbench-notebooks.m117",
   "type": "gcloud",
   "uri": "us-docker.pkg.dev/deeplearning-platform-release/gcr.io/workbench-notebooks:m117"
  },
  "kernelspec": {
   "display_name": "PyTorch 1-13 (Local)",
   "language": "python",
   "name": "conda-env-pytorch-pytorch"
  },
  "language_info": {
   "codemirror_mode": {
    "name": "ipython",
    "version": 3
   },
   "file_extension": ".py",
   "mimetype": "text/x-python",
   "name": "python",
   "nbconvert_exporter": "python",
   "pygments_lexer": "ipython3",
   "version": "3.10.13"
  }
 },
 "nbformat": 4,
 "nbformat_minor": 5
}
