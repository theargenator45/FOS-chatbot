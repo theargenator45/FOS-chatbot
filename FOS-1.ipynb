{
 "cells": [
  {
   "cell_type": "code",
   "execution_count": null,
   "id": "831874b3-4a61-4f42-82d7-a4a93ce2e319",
   "metadata": {},
   "outputs": [],
   "source": [
    "! pip install -U -q langchain "
   ]
  },
  {
   "cell_type": "code",
   "execution_count": null,
   "id": "0ab0364d-1723-4040-b126-d4838399918c",
   "metadata": {
    "tags": []
   },
   "outputs": [],
   "source": [
    "! pip install -q chromadb"
   ]
  },
  {
   "cell_type": "code",
   "execution_count": null,
   "id": "a889296e-dfda-4338-ba44-f61363b94546",
   "metadata": {
    "tags": []
   },
   "outputs": [],
   "source": [
    "! pip install -U -q langchain-core"
   ]
  },
  {
   "cell_type": "code",
   "execution_count": null,
   "id": "4f928e9d-1385-4fef-9762-a3b34b53f054",
   "metadata": {
    "tags": []
   },
   "outputs": [],
   "source": [
    "! pip install -U -q langchain-google-vertexai"
   ]
  },
  {
   "cell_type": "code",
   "execution_count": null,
   "id": "969cb6c1-f502-45e2-9f8c-fafcfc211b52",
   "metadata": {
    "tags": []
   },
   "outputs": [],
   "source": [
    "! pip install -U -q gradio"
   ]
  },
  {
   "cell_type": "code",
   "execution_count": null,
   "id": "bfd5a9cd-0e9b-4f30-bf0b-6b74b0498fda",
   "metadata": {
    "tags": []
   },
   "outputs": [],
   "source": [
    "! pip install -q unstructured"
   ]
  },
  {
   "cell_type": "code",
   "execution_count": null,
   "id": "ae843980-9e18-42f6-83c0-e5f10dfd4135",
   "metadata": {
    "tags": []
   },
   "outputs": [],
   "source": [
    "! source .venv/bin/activate"
   ]
  },
  {
   "cell_type": "code",
   "execution_count": null,
   "id": "4f887b1d-358b-416e-a60d-bc27c735c088",
   "metadata": {
    "tags": []
   },
   "outputs": [],
   "source": [
    "%pip install --upgrade --quiet  google-cloud-storage"
   ]
  },
  {
   "cell_type": "code",
   "execution_count": 1,
   "id": "75e028a1-e295-4953-9431-784449ab62ee",
   "metadata": {
    "tags": []
   },
   "outputs": [],
   "source": [
    "# import libraries \n",
    "from langchain_google_vertexai import VertexAI\n",
    "from google.cloud import storage\n",
    "from langchain import LLMChain"
   ]
  },
  {
   "cell_type": "code",
   "execution_count": null,
   "id": "921bcacc-a823-4d54-9cf6-dce80d3fe8b1",
   "metadata": {
    "tags": []
   },
   "outputs": [],
   "source": [
    "! pip uninstall langchain-core"
   ]
  },
  {
   "cell_type": "code",
   "execution_count": 2,
   "id": "c1432f98-6c43-40c2-81d3-1618e5198b4e",
   "metadata": {
    "tags": []
   },
   "outputs": [],
   "source": [
    "# retrievals \n",
    "from langchain_community.document_loaders import GCSFileLoader"
   ]
  },
  {
   "cell_type": "code",
   "execution_count": 3,
   "id": "c81532cf-bac6-44c2-906c-a094feac1ae4",
   "metadata": {
    "tags": []
   },
   "outputs": [],
   "source": [
    "BUCKET_NAME = \"lloyds-genai24lon-2701-bucket\"\n",
    "PROJECT_ID = \"lloyds-genai24lon-2701\""
   ]
  },
  {
   "cell_type": "code",
   "execution_count": 4,
   "id": "acd66bc8-903c-4e73-b6d0-6ef3a5c8e775",
   "metadata": {
    "tags": []
   },
   "outputs": [],
   "source": [
    "loader = GCSFileLoader(project_name = PROJECT_ID, bucket=BUCKET_NAME, blob=\"decisions_2023.csv\")"
   ]
  },
  {
   "cell_type": "code",
   "execution_count": null,
   "id": "4bc36df8-cc8f-4455-bba2-46307a0d959b",
   "metadata": {
    "tags": []
   },
   "outputs": [
    {
     "name": "stderr",
     "output_type": "stream",
     "text": [
      "/home/jupyter/.venv/lib/python3.10/site-packages/unstructured/partition/csv.py:76: DtypeWarning: Columns (3,4) have mixed types. Specify dtype option on import or set low_memory=False.\n",
      "  table = pd.read_csv(filename, header=header, sep=delimiter)\n"
     ]
    }
   ],
   "source": [
    "documents = loader.load()"
   ]
  },
  {
   "cell_type": "code",
   "execution_count": null,
   "id": "55353ce0-5c44-4524-8b3e-1184ee49f86a",
   "metadata": {},
   "outputs": [],
   "source": [
    "CHUNK_SIZE = 1000\n",
    "CHUNK_OVERLAP = 100"
   ]
  },
  {
   "cell_type": "code",
   "execution_count": null,
   "id": "f76beed0-5ced-451e-9198-e219f6324250",
   "metadata": {},
   "outputs": [],
   "source": [
    "from langchain.text_splitter import RecursiveCharacterTextSplitter\n",
    "text_splitter = RecursiveCharacterTextSplitter(chunk_size=CHUNK_SIZE, chunk_overlap=CHUNK_OVERLAP)"
   ]
  },
  {
   "cell_type": "code",
   "execution_count": null,
   "id": "c3c1f589-390f-4c9c-b2be-06662b516eb5",
   "metadata": {},
   "outputs": [],
   "source": [
    "docs = text_splitter.split_documents(documents)"
   ]
  },
  {
   "cell_type": "code",
   "execution_count": null,
   "id": "ca58abd0-55cf-48a6-8ff1-37f1a1532e98",
   "metadata": {},
   "outputs": [],
   "source": []
  }
 ],
 "metadata": {
  "environment": {
   "kernel": "venv",
   "name": "workbench-notebooks.m117",
   "type": "gcloud",
   "uri": "us-docker.pkg.dev/deeplearning-platform-release/gcr.io/workbench-notebooks:m117"
  },
  "kernelspec": {
   "display_name": "Python (myenv) (Local)",
   "language": "python",
   "name": "venv"
  },
  "language_info": {
   "codemirror_mode": {
    "name": "ipython",
    "version": 3
   },
   "file_extension": ".py",
   "mimetype": "text/x-python",
   "name": "python",
   "nbconvert_exporter": "python",
   "pygments_lexer": "ipython3",
   "version": "3.10.13"
  }
 },
 "nbformat": 4,
 "nbformat_minor": 5
}
