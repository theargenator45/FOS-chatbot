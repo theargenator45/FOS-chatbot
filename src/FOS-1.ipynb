{
 "cells": [
  {
   "cell_type": "code",
   "execution_count": 1,
   "id": "831874b3-4a61-4f42-82d7-a4a93ce2e319",
   "metadata": {},
   "outputs": [
    {
     "name": "stdout",
     "output_type": "stream",
     "text": [
      "\u001b[31mERROR: Invalid requirement: 'langchain,'\u001b[0m\u001b[31m\n",
      "\u001b[0m"
     ]
    }
   ],
   "source": [
    "! pip install -U -q langchain, chromadb, langchain-core, langchain-gooogle-vertexai gradio, unstructure, google-cloud-storage, langchain-core"
   ]
  },
  {
   "cell_type": "code",
   "execution_count": 2,
   "id": "ae843980-9e18-42f6-83c0-e5f10dfd4135",
   "metadata": {
    "tags": []
   },
   "outputs": [],
   "source": [
    "! source .venv/bin/activate"
   ]
  },
  {
   "cell_type": "code",
   "execution_count": 3,
   "id": "75e028a1-e295-4953-9431-784449ab62ee",
   "metadata": {
    "tags": []
   },
   "outputs": [],
   "source": [
    "# import libraries \n",
    "from langchain_google_vertexai import VertexAI\n",
    "from google.cloud import storage\n",
    "from langchain import LLMChain"
   ]
  },
  {
   "cell_type": "code",
   "execution_count": 4,
   "id": "c1432f98-6c43-40c2-81d3-1618e5198b4e",
   "metadata": {
    "tags": []
   },
   "outputs": [],
   "source": [
    "# retrievals \n",
    "from langchain_community.document_loaders import GCSDirectoryLoader"
   ]
  },
  {
   "cell_type": "code",
   "execution_count": 5,
   "id": "c81532cf-bac6-44c2-906c-a094feac1ae4",
   "metadata": {
    "tags": []
   },
   "outputs": [],
   "source": [
    "BUCKET_NAME = \"lloyds-genai24lon-2701-bucket\"\n",
    "PROJECT_ID = \"lloyds-genai24lon-2701\""
   ]
  },
  {
   "cell_type": "code",
   "execution_count": 6,
   "id": "4a2dc532-c470-4fc1-94a6-fa51a0fb775f",
   "metadata": {
    "tags": []
   },
   "outputs": [],
   "source": [
    "llm = VertexAI(model_name = 'text-bison-32k', max_output_tokens = 256, temperature = 0.1, top_p = 0.8, \n",
    "               top_k = 40, verbose = True)"
   ]
  },
  {
   "cell_type": "code",
   "execution_count": 7,
   "id": "acd66bc8-903c-4e73-b6d0-6ef3a5c8e775",
   "metadata": {
    "tags": []
   },
   "outputs": [],
   "source": [
    "loader = GCSDirectoryLoader(project_name = PROJECT_ID, bucket=BUCKET_NAME, prefix=\"sample_50/\")"
   ]
  },
  {
   "cell_type": "code",
   "execution_count": 8,
   "id": "4bc36df8-cc8f-4455-bba2-46307a0d959b",
   "metadata": {
    "tags": []
   },
   "outputs": [],
   "source": [
    "documents = loader.load()"
   ]
  },
  {
   "cell_type": "code",
   "execution_count": 9,
   "id": "55353ce0-5c44-4524-8b3e-1184ee49f86a",
   "metadata": {
    "tags": []
   },
   "outputs": [],
   "source": [
    "CHUNK_SIZE = 1000\n",
    "CHUNK_OVERLAP = 100"
   ]
  },
  {
   "cell_type": "code",
   "execution_count": 10,
   "id": "f76beed0-5ced-451e-9198-e219f6324250",
   "metadata": {
    "tags": []
   },
   "outputs": [],
   "source": [
    "from langchain.text_splitter import RecursiveCharacterTextSplitter\n",
    "text_splitter = RecursiveCharacterTextSplitter(chunk_size=CHUNK_SIZE, chunk_overlap=CHUNK_OVERLAP)"
   ]
  },
  {
   "cell_type": "code",
   "execution_count": 11,
   "id": "c3c1f589-390f-4c9c-b2be-06662b516eb5",
   "metadata": {
    "tags": []
   },
   "outputs": [
    {
     "name": "stdout",
     "output_type": "stream",
     "text": [
      "splitting...\n",
      "No of Documents = 1111\n"
     ]
    }
   ],
   "source": [
    "docs = text_splitter.split_documents(documents)\n",
    "print(\"splitting...\")\n",
    "print(f\"No of Documents = {len(docs)}\")"
   ]
  },
  {
   "cell_type": "code",
   "execution_count": 12,
   "id": "b0556221-99c7-4703-bdc9-d069ede31393",
   "metadata": {
    "tags": []
   },
   "outputs": [],
   "source": [
    "from langchain_google_vertexai import VertexAIEmbeddings"
   ]
  },
  {
   "cell_type": "code",
   "execution_count": 13,
   "id": "ca58abd0-55cf-48a6-8ff1-37f1a1532e98",
   "metadata": {
    "tags": []
   },
   "outputs": [],
   "source": [
    "# Structure ingested documents "
   ]
  },
  {
   "cell_type": "code",
   "execution_count": 14,
   "id": "d3e5dd7b-a34d-481a-8d83-89541b26f116",
   "metadata": {
    "tags": []
   },
   "outputs": [],
   "source": [
    "REQUESTS_PER_MINUTE = 50"
   ]
  },
  {
   "cell_type": "code",
   "execution_count": 15,
   "id": "c17bf22b-94aa-43c3-8929-bf11316ee0ba",
   "metadata": {
    "tags": []
   },
   "outputs": [
    {
     "name": "stderr",
     "output_type": "stream",
     "text": [
      "Model_name will become a required arg for VertexAIEmbeddings starting from Feb-01-2024. Currently the default is set to textembedding-gecko@001\n"
     ]
    }
   ],
   "source": [
    "embeddings = VertexAIEmbeddings(requests_per_minute= REQUESTS_PER_MINUTE)"
   ]
  },
  {
   "cell_type": "code",
   "execution_count": 16,
   "id": "b0d43ca0-297f-4555-9ca5-e3847c67fe1f",
   "metadata": {
    "tags": []
   },
   "outputs": [],
   "source": [
    "# Vector Store"
   ]
  },
  {
   "cell_type": "code",
   "execution_count": 17,
   "id": "0865167c-f82b-4d1f-b4a6-f32dd89e6300",
   "metadata": {
    "tags": []
   },
   "outputs": [],
   "source": [
    "from langchain_community.vectorstores import Chroma"
   ]
  },
  {
   "cell_type": "code",
   "execution_count": 18,
   "id": "e5b450ac-dce8-4068-86a3-553eb7e8e935",
   "metadata": {
    "tags": []
   },
   "outputs": [],
   "source": [
    "documents_vector_db = Chroma.from_documents(docs, embeddings)"
   ]
  },
  {
   "cell_type": "code",
   "execution_count": 42,
   "id": "c1d833a3-c318-4e84-8c4f-9f4afa8a16fd",
   "metadata": {
    "tags": []
   },
   "outputs": [],
   "source": [
    "retriever = documents_vector_db.as_retriever(search_type = 'mmr', search_kwargs = {\"k\":10}, score_threshold = 0.80)"
   ]
  },
  {
   "cell_type": "code",
   "execution_count": 43,
   "id": "6f0ccf6a-7e3c-453b-be9a-957fc65da6ef",
   "metadata": {
    "tags": []
   },
   "outputs": [],
   "source": [
    "# Retrieval QA Chain "
   ]
  },
  {
   "cell_type": "code",
   "execution_count": 54,
   "id": "0d848af6-bc51-4966-ab84-a9b339a18a58",
   "metadata": {
    "tags": []
   },
   "outputs": [],
   "source": [
    "db2 = Chroma.from_documents(docs, embeddings, persist_directory=\"./chroma_db\")"
   ]
  },
  {
   "cell_type": "code",
   "execution_count": 44,
   "id": "b237d3c9-59ab-4b7d-8bec-707ff19b4346",
   "metadata": {
    "tags": []
   },
   "outputs": [],
   "source": [
    "from langchain.chains import RetrievalQA"
   ]
  },
  {
   "cell_type": "code",
   "execution_count": 45,
   "id": "3ff0fea4-5215-43d2-a2ce-f1b24d157924",
   "metadata": {
    "tags": []
   },
   "outputs": [],
   "source": [
    "qa = RetrievalQA.from_chain_type(llm = llm, chain_type = \"stuff\", retriever=retriever, return_source_documents=True)"
   ]
  },
  {
   "cell_type": "code",
   "execution_count": 66,
   "id": "989feb6c-4402-4d60-9676-1329b70cedb9",
   "metadata": {
    "tags": []
   },
   "outputs": [],
   "source": [
    "result = qa({\"query\": \"what is the weather\"})"
   ]
  },
  {
   "cell_type": "code",
   "execution_count": 67,
   "id": "699433c7-a751-44ef-87a2-a8888244b1b9",
   "metadata": {
    "tags": []
   },
   "outputs": [
    {
     "data": {
      "text/plain": [
       "{'query': 'what is the weather',\n",
       " 'result': ' The provided text does not contain any information about the weather, so I cannot answer this question.',\n",
       " 'source_documents': [Document(page_content='possible to calculate the rate of investment growth.\\n\\nThe policy terms allow for an increase in premiums due to increases in mortality\\n\\ncosts, but I have not assessed whether the increase was fair and reasonable.\\n\\nReAssure should continue to provide information on Mrs Hs policy based on an\\n\\nannual growth rate of 6%.\\n\\nThe new policy that Mrs Hs adviser has obtained a quote for would offer better terms\\n\\nat a cheaper premium. The quote is evidence that ReAssure are treating new\\n\\ncustomers more favourably than existing policy holders.\\n\\nReAssure did not respond to my provisional decision, but they have provided further\\n\\ninformation that I requested so that I could come to my final decision.What Ive decided  and why\\n\\nIve considered all the available evidence and arguments to decide whats fair and\\n\\nreasonable in the circumstances of this complaint.\\n\\nFollowing my provisional decision, I asked ReAssure for further information about Mrs Hs', metadata={'source': 'gs://lloyds-genai24lon-2701-bucket/sample_50/DRN-3202429_2023-01-17.txt'}),\n",
       "  Document(page_content='them to provide services to anyone resident in the UK  which Mr Z was.\\n\\nPrevious experience and explanation of risks\\n\\nThe Financial Conduct Authoritys (FCAs) conduct of business sourcebook (COBS)\\n\\nchapter 10 provides guidance on what firms need to do in terms of assessing the\\n\\nappropriateness of an account for a client. COBS 10.2.1 says a firm must ask the client to\\n\\nprovide information about his knowledge and experience in the investment field, and must\\n\\nthen determine whether the client has the necessary experience and knowledge to\\n\\nunderstand the risks involved in relation to the product demanded.\\n\\nCOBS 10.2.2 sets out the nature of the information a firm must ask for, and COBS 10.2.4\\n\\nsays a firm is entitled to rely on the information provided by a client.\\n\\nIve looked at the appropriateness assessment that Mr Z completed online and Im satisfied it\\n\\nmeets the requirements of COBS 10.2.1  10.2.4. Its clear from this assessment that Mr Z', metadata={'source': 'gs://lloyds-genai24lon-2701-bucket/sample_50/DRN-3139365_2023-01-18.txt'}),\n",
       "  Document(page_content='pay due regard to the information needs of its clients, and communicate information\\n\\nto them in a way which is clear, fair and not misleading\\n\\nIn considering whether ReAssure had treated Mrs H fairly, I said I was also taking account of\\n\\nthe report by the FCA in 2016 on Fair Treatment of Long-standing customers in the life\\n\\ninsurance sector. That report recommended that:\\n\\nThe firm checks, through periodic reviews, that closed-book products remain fit for\\n\\npurpose and continue to meet the general needs of the target audience for whom\\n\\nthey were designed.\\n\\nThe firms closed-book customers receive clear and timely communications about\\n\\npolicy features at regular intervals and at key points in the product life cycle that\\n\\nenable them to make informed decisions.\\n\\nI said I was considering whether at this point in the life cycle of the policy I thought ReAssure\\n\\nhad treated Mrs H fairly and communicated with her clearly. I said Id looked carefully at the', metadata={'source': 'gs://lloyds-genai24lon-2701-bucket/sample_50/DRN-3202429_2023-01-17.txt'}),\n",
       "  Document(page_content='clarify the methodology to ensure it continues to provide appropriate redress.\\n\\nA policy statement was published on 28 November 2022 which set out the new rules and\\n\\nguidance  https://www.fca.org.uk/publication/policy/ps22-13.pdf. The new rules will come\\n\\ninto effect on 1 April 2023.\\n\\nThe FCA has stated that it expects firms to continue to calculate and offer compensation to\\n\\ntheir customers using the existing guidance in FG 17/9 while the consultation takes place.\\n\\nBut until changes take effect firms should give customers the option of waiting for their\\n\\ncompensation to be calculated in line with any new rules and guidance that may come into\\n\\nforce after the consultation has concluded.\\n\\nWe previously asked Mr M whether he preferred any redress to be calculated now in line\\n\\nwith current guidance or wait for the any new guidance and rules to be published. He didnt\\n\\nmake a choice. So, as set out previously, Ive assumed in this case he doesnt want to wait', metadata={'source': 'gs://lloyds-genai24lon-2701-bucket/sample_50/DRN-3368435_2023-01-10.txt'}),\n",
       "  Document(page_content='pension income of £6,000.\\n\\n£10,000 was to be invested into a further GIB for a five-year term. Again, it offered the\\n\\npotential for capital growth linked to the FTSE 100 index but with the capital guaranteed.\\n\\nMrs Ds attitude to risk and the advice\\n\\nTheres no record of how Mrs Ds attitude to risk was established  only that its recorded.\\n\\nSo, I have gone onto consider whether Lloyds collected sufficient information about Mrs Ds\\n\\ncircumstances and objectives to enable it to assess her attitude to risk.\\n\\nWhile its clear that Mrs D did have some investment experience, Ive borne in mind that\\n\\nMrs D was seeking advice because she didnt have the knowledge or experience to make\\n\\nsuch an investment decision unaided. So, Lloyds needs to demonstrate that it gave suitable\\n\\nadvice taking into account Mrs Ds circumstances, understanding and knowledge after\\n\\nascertaining her attitude to risk.\\n\\nClearly, I cant know for sure what was discussed at the meetings Mrs D had with Lloyds', metadata={'source': 'gs://lloyds-genai24lon-2701-bucket/sample_50/DRN-3300784_2023-01-12.txt'}),\n",
       "  Document(page_content='recommendations to follow)If you could email back saying confirmed that would be great.\\n\\nMr R responded the same day to tell his adviser should proceed on this basis.\\n\\nOn 15 May 2020 Mr R says to his adviser:\\n\\nAs discussed, happy to leave SIPP in cash for now.\\n\\nOn 12 June 2020 Mr R asks his adviser:\\n\\nAm wondering with this bit of a market correction whether its worth getting some of the\\n\\nSIPP invested  no great rush but starting to think about it.\\n\\nOn the same day his adviser responded saying:\\n\\nShouldnt look for the bottom but makes sense to put to work if valuations continue to\\n\\ncorrect, especially in the SIPP. Volatility is likely to return in the short term and the market is\\n\\nstill range bound, trying to find a fair value on equities right now. We could phase the redeployment in tranches or one thought could be to buy our fixed income positions\\n\\nnow/sooner rather than later, followed by the equity funds thereafter.', metadata={'source': 'gs://lloyds-genai24lon-2701-bucket/sample_50/DRN-3404444_2023-01-16.txt'}),\n",
       "  Document(page_content='meets the requirements of COBS 10.2.1  10.2.4. Its clear from this assessment that Mr Z\\n\\nhad no trading experience and limited financial knowledge. But that doesnt necessarily\\n\\nmean that eToro shouldnt have opened an account for him  COBS 10.3.1 says a firm must\\n\\nwarn a client if they think a product or service isnt appropriate for the client. COBS 10.3.3\\n\\nthen says that if a client has been given a warning but wants to proceed, the firm can then\\n\\ndecide whether to go ahead.\\n\\neToro have provided a screenshot of the warning that would have been shown to Mr Z. This\\n\\nsays: You should understand that eToro products are complex derivative products and can\\n\\ncarry a high degree of risk to your capital and may not be appropriate for you, based on your\\n\\nknowledge and experience as indicated by you. The warning then went on to encourage\\n\\nMr Z to read eToros educational tools and general risk disclosure and required him to open', metadata={'source': 'gs://lloyds-genai24lon-2701-bucket/sample_50/DRN-3139365_2023-01-18.txt'}),\n",
       "  Document(page_content='the principles for assessing suitability. The relevant rules in the FCAs Handbook and\\n\\nConduct of Business Rules (COBS) are 9.2.1 and 9.2.2. These required Tenet to gather\\n\\nsufficient information from Mr S to ensure its recommendation met his objectives; that Mr S\\n\\ncould financially withstand the risks associated with these objectives and that Mr S had the\\n\\nnecessary experience and knowledge to understand the risks involved in the transaction.\\n\\nDB schemes like Mr S OPS typically have significant benefits and guarantees. Giving these\\n\\nup and subjecting future pension income to the risks associated with unpredictable\\n\\ninvestment returns should only be done where it can be shown its clearly in the best\\n\\ninterests of the consumer. Under 19.1.6 the COBS rules at the time of the advice said:\\n\\nWhen advising a retail client who is () a member of a defined benefits occupational\\n\\npension scheme (), a firm should start by assuming that a transfer () will not be suitable.', metadata={'source': 'gs://lloyds-genai24lon-2701-bucket/sample_50/DRN-3192309_2023-01-26.txt'}),\n",
       "  Document(page_content='workmanship or design being the cause of damage.\\n\\nIn October 2022 I issued a provisional decision. I said work to the roof, in 2000, hadnt been\\n\\nshown to have met relevant building standards. Having considered the evidence I was\\n\\npersuaded that work had resulted in an inadequate pier design that seemed the most likely\\n\\ncause of damage. I said that that meant, in the circumstances, it was fair and reasonable for\\n\\nHiscox to rely on the faulty workmanship and design exclusion to refuse the claim.\\n\\nIn response Mr G provided a letter from the engineering firm involved in both the 2000 and\\n\\nrecent post loss designs. It explained the 2000 works were designed in accordance with the\\n\\nrelevant standards in force at the time. It also denied those works could have resulted in the\\n\\nexisting pier not being strong enough to support the redesigned roof. It also supported\\n\\nMr Gs claim the reason for a recent post-loss strengthened pier design was for robustness\\n\\nagainst any potential ground movement.', metadata={'source': 'gs://lloyds-genai24lon-2701-bucket/sample_50/DRN-3317553_2023-01-24.txt'}),\n",
       "  Document(page_content='review the options available to assist them and I dont think this is unreasonable. Mars lent\\n\\nthem the money upon the agreement that this would be repaid over a certain period but unfortunately Mr and Mrs H have been unable to do this and no payments have been made\\n\\non the loan at all for a considerable period of time.\\n\\nWhilst I understand that Mr and Mrs H are going through a difficult time, it is hard to see\\n\\nwhat Mars can do to help them unless they co-operate with providing the information\\n\\nrequested. This is because Mars needs to understand their financial circumstances in order\\n\\nto review what forbearance options are available to them. For example, Mr and Mrs H have\\n\\nasked about the interest on the account being frozen. But there would be no benefit to\\n\\nfreezing the interest if this wasnt a sustainable way of Mr and Mrs H repaying the loan as, if\\n\\nthey were unable to afford to repay the capital, the situation would not be resolved.', metadata={'source': 'gs://lloyds-genai24lon-2701-bucket/sample_50/DRN-3407949_2023-01-04.txt'})]}"
      ]
     },
     "execution_count": 67,
     "metadata": {},
     "output_type": "execute_result"
    }
   ],
   "source": [
    "result"
   ]
  },
  {
   "cell_type": "markdown",
   "id": "dd1f8393-75c8-48c3-9cea-92257170b4ff",
   "metadata": {},
   "source": [
    "### Gradio "
   ]
  },
  {
   "cell_type": "code",
   "execution_count": 80,
   "id": "0573a4ec-b973-473f-8b2d-3f882ae94320",
   "metadata": {
    "tags": []
   },
   "outputs": [],
   "source": [
    "fail_template = ['No', 'No response', 'contain', 'cannot']"
   ]
  },
  {
   "cell_type": "code",
   "execution_count": 81,
   "id": "20629981-ccb9-4e50-9230-658e6ead9627",
   "metadata": {
    "tags": []
   },
   "outputs": [
    {
     "data": {
      "text/plain": [
       "['',\n",
       " 'The',\n",
       " 'provided',\n",
       " 'text',\n",
       " 'does',\n",
       " 'not',\n",
       " 'contain',\n",
       " 'any',\n",
       " 'information',\n",
       " 'about',\n",
       " 'the',\n",
       " 'weather,',\n",
       " 'so',\n",
       " 'I',\n",
       " 'cannot',\n",
       " 'answer',\n",
       " 'this',\n",
       " 'question.']"
      ]
     },
     "execution_count": 81,
     "metadata": {},
     "output_type": "execute_result"
    }
   ],
   "source": [
    "result['result'].split(\" \")"
   ]
  },
  {
   "cell_type": "code",
   "execution_count": 82,
   "id": "cf0400fd-b11c-4bc9-b29e-64fddedf542b",
   "metadata": {
    "tags": []
   },
   "outputs": [],
   "source": [
    "fail_result = [any(word in fail_template for word in result['result'].split(\" \"))]"
   ]
  },
  {
   "cell_type": "code",
   "execution_count": 83,
   "id": "ba81f317-6a68-4b20-83d4-a1e441f1bee8",
   "metadata": {
    "tags": []
   },
   "outputs": [
    {
     "data": {
      "text/plain": [
       "[True]"
      ]
     },
     "execution_count": 83,
     "metadata": {},
     "output_type": "execute_result"
    }
   ],
   "source": [
    "fail_result"
   ]
  },
  {
   "cell_type": "code",
   "execution_count": 84,
   "id": "b39c409b-11ac-438b-ab9e-d08af30be545",
   "metadata": {
    "tags": []
   },
   "outputs": [],
   "source": [
    "def chatbot(inputtext):\n",
    "    result = qa({\"query\": inputtext})\n",
    "    \n",
    "    result = result['result']\n",
    "    source_url = get_public_url(result['source_documents'][0].metadata['source'])\n",
    "    file = result['source_documents'][1].metadata['source']\n",
    "    \n",
    "    fail_result = [any(word in fail_template for word in result['result'].split(\" \"))]\n",
    "    \n",
    "    if fail_result:\n",
    "        return result\n",
    "    else: \n",
    "        return result, source_url, file\n",
    "    \n",
    "    \n",
    "    \n",
    "    "
   ]
  },
  {
   "cell_type": "code",
   "execution_count": 49,
   "id": "5c7d520d-cce9-4ac2-a212-fd28c43d3f02",
   "metadata": {
    "tags": []
   },
   "outputs": [],
   "source": [
    "def get_public_url(url): \n",
    "    components = url.split(\"/\")\n",
    "    bucket_name = components[2]\n",
    "    file_name = components[3]\n",
    "    client = storage.Client()\n",
    "    bucket = client.bucket(bucket_name)\n",
    "    blob = bucket.blob(file_name)\n",
    "    return blob.public_url"
   ]
  },
  {
   "cell_type": "code",
   "execution_count": 50,
   "id": "ca356416-2301-4700-8f6b-2c3fff787f64",
   "metadata": {
    "tags": []
   },
   "outputs": [],
   "source": [
    "import gradio as gr"
   ]
  },
  {
   "cell_type": "code",
   "execution_count": 85,
   "id": "fb9d5a6d-ce25-4c6e-a880-fabedd1ab607",
   "metadata": {
    "tags": []
   },
   "outputs": [],
   "source": [
    "examples = ['What is the context of the first page', 'Did acumen act appropriately with the guidelines',\n",
    "            'What is the role of the FCA', 'What is your plan for the weekend', 'what is weather']"
   ]
  },
  {
   "cell_type": "code",
   "execution_count": 86,
   "id": "8c1382f4-7249-4c4d-9554-ea71da095716",
   "metadata": {
    "tags": []
   },
   "outputs": [],
   "source": [
    "iface = gr.Interface(fn=chatbot, \n",
    "                     inputs = [gr.Textbox(label=\"Query\")], \n",
    "                     examples=examples, title = \"FOS chatbot\", \n",
    "                     outputs = [gr.Textbox(label=\"Response\"), \n",
    "                               gr.Textbox(label=\"URL\"), gr.Textbox(label = \"Cloud Storage URL\")])"
   ]
  },
  {
   "cell_type": "code",
   "execution_count": 87,
   "id": "0dd1d4a9-111c-44a2-91ee-d9dc28256496",
   "metadata": {
    "tags": []
   },
   "outputs": [
    {
     "name": "stdout",
     "output_type": "stream",
     "text": [
      "Running on local URL:  http://127.0.0.1:7865\n",
      "Running on public URL: https://e4509045d7ac1f58ef.gradio.live\n",
      "\n",
      "This share link expires in 72 hours. For free permanent hosting and GPU upgrades, run `gradio deploy` from Terminal to deploy to Spaces (https://huggingface.co/spaces)\n"
     ]
    },
    {
     "data": {
      "text/html": [
       "<div><iframe src=\"https://e4509045d7ac1f58ef.gradio.live\" width=\"100%\" height=\"500\" allow=\"autoplay; camera; microphone; clipboard-read; clipboard-write;\" frameborder=\"0\" allowfullscreen></iframe></div>"
      ],
      "text/plain": [
       "<IPython.core.display.HTML object>"
      ]
     },
     "metadata": {},
     "output_type": "display_data"
    },
    {
     "data": {
      "text/plain": []
     },
     "execution_count": 87,
     "metadata": {},
     "output_type": "execute_result"
    },
    {
     "name": "stderr",
     "output_type": "stream",
     "text": [
      "Traceback (most recent call last):\n",
      "  File \"/home/jupyter/.venv/lib/python3.10/site-packages/gradio/queueing.py\", line 501, in call_prediction\n",
      "    output = await route_utils.call_process_api(\n",
      "  File \"/home/jupyter/.venv/lib/python3.10/site-packages/gradio/route_utils.py\", line 252, in call_process_api\n",
      "    output = await app.get_blocks().process_api(\n",
      "  File \"/home/jupyter/.venv/lib/python3.10/site-packages/gradio/blocks.py\", line 1664, in process_api\n",
      "    result = await self.call_function(\n",
      "  File \"/home/jupyter/.venv/lib/python3.10/site-packages/gradio/blocks.py\", line 1205, in call_function\n",
      "    prediction = await anyio.to_thread.run_sync(\n",
      "  File \"/home/jupyter/.venv/lib/python3.10/site-packages/anyio/to_thread.py\", line 56, in run_sync\n",
      "    return await get_async_backend().run_sync_in_worker_thread(\n",
      "  File \"/home/jupyter/.venv/lib/python3.10/site-packages/anyio/_backends/_asyncio.py\", line 2144, in run_sync_in_worker_thread\n",
      "    return await future\n",
      "  File \"/home/jupyter/.venv/lib/python3.10/site-packages/anyio/_backends/_asyncio.py\", line 851, in run\n",
      "    result = context.run(func, *args)\n",
      "  File \"/home/jupyter/.venv/lib/python3.10/site-packages/gradio/utils.py\", line 690, in wrapper\n",
      "    response = f(*args, **kwargs)\n",
      "  File \"/var/tmp/ipykernel_84195/3858247842.py\", line 5, in chatbot\n",
      "    source_url = get_public_url(result['source_documents'][0].metadata['source'])\n",
      "TypeError: string indices must be integers\n",
      "Traceback (most recent call last):\n",
      "  File \"/home/jupyter/.venv/lib/python3.10/site-packages/gradio/queueing.py\", line 501, in call_prediction\n",
      "    output = await route_utils.call_process_api(\n",
      "  File \"/home/jupyter/.venv/lib/python3.10/site-packages/gradio/route_utils.py\", line 252, in call_process_api\n",
      "    output = await app.get_blocks().process_api(\n",
      "  File \"/home/jupyter/.venv/lib/python3.10/site-packages/gradio/blocks.py\", line 1664, in process_api\n",
      "    result = await self.call_function(\n",
      "  File \"/home/jupyter/.venv/lib/python3.10/site-packages/gradio/blocks.py\", line 1205, in call_function\n",
      "    prediction = await anyio.to_thread.run_sync(\n",
      "  File \"/home/jupyter/.venv/lib/python3.10/site-packages/anyio/to_thread.py\", line 56, in run_sync\n",
      "    return await get_async_backend().run_sync_in_worker_thread(\n",
      "  File \"/home/jupyter/.venv/lib/python3.10/site-packages/anyio/_backends/_asyncio.py\", line 2144, in run_sync_in_worker_thread\n",
      "    return await future\n",
      "  File \"/home/jupyter/.venv/lib/python3.10/site-packages/anyio/_backends/_asyncio.py\", line 851, in run\n",
      "    result = context.run(func, *args)\n",
      "  File \"/home/jupyter/.venv/lib/python3.10/site-packages/gradio/utils.py\", line 690, in wrapper\n",
      "    response = f(*args, **kwargs)\n",
      "  File \"/var/tmp/ipykernel_84195/3858247842.py\", line 5, in chatbot\n",
      "    source_url = get_public_url(result['source_documents'][0].metadata['source'])\n",
      "TypeError: string indices must be integers\n"
     ]
    }
   ],
   "source": [
    "iface.launch(share=True)"
   ]
  },
  {
   "cell_type": "code",
   "execution_count": null,
   "id": "a8f6bc19-a4b9-4b23-8a6d-67083f63b50d",
   "metadata": {},
   "outputs": [],
   "source": []
  }
 ],
 "metadata": {
  "environment": {
   "kernel": "venv",
   "name": "workbench-notebooks.m117",
   "type": "gcloud",
   "uri": "us-docker.pkg.dev/deeplearning-platform-release/gcr.io/workbench-notebooks:m117"
  },
  "kernelspec": {
   "display_name": "Python (myenv) (Local)",
   "language": "python",
   "name": "venv"
  },
  "language_info": {
   "codemirror_mode": {
    "name": "ipython",
    "version": 3
   },
   "file_extension": ".py",
   "mimetype": "text/x-python",
   "name": "python",
   "nbconvert_exporter": "python",
   "pygments_lexer": "ipython3",
   "version": "3.10.13"
  }
 },
 "nbformat": 4,
 "nbformat_minor": 5
}
