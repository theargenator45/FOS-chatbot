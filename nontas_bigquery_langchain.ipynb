{
 "cells": [
  {
   "cell_type": "markdown",
   "id": "713e189d-bfc0-459d-b0c7-baa5c9e03de1",
   "metadata": {},
   "source": [
    "##Get summary data and store them in bigquery"
   ]
  },
  {
   "cell_type": "code",
   "execution_count": 1,
   "id": "6973e022-5378-43d1-b60a-e7b1044e4de5",
   "metadata": {
    "tags": []
   },
   "outputs": [],
   "source": [
    "import pandas as pd"
   ]
  },
  {
   "cell_type": "code",
   "execution_count": 2,
   "id": "a2834341-0b86-469e-a3c6-4a9017efd486",
   "metadata": {
    "tags": []
   },
   "outputs": [],
   "source": [
    "! pip install --user --quiet google-cloud-aiplatform==1.25.0\n",
    "\n",
    "# Install pandas\n",
    "! pip install --user --quiet pandas\n",
    "\n",
    "# Install HuggingFace Datasets\n",
    "! pip install --user --quiet datasets\n",
    "\n",
    "# Install Python client for Google Search API\n",
    "! pip install --user --quiet google-api-python-client\n",
    "\n",
    "# PDF loader\n",
    "! pip install --user --quiet pypdf\n",
    "\n",
    "# Install similarity search library\n",
    "# TO-DO: Replace with vertex AI Matching Engine\n",
    "! pip install --user --quiet faiss-cpu"
   ]
  },
  {
   "cell_type": "code",
   "execution_count": null,
   "id": "804d112d-f318-4dda-bd4b-57e1d14c5868",
   "metadata": {
    "tags": []
   },
   "outputs": [],
   "source": [
    "# Install Vertex AI LLM SDK, langchain and dependencies\n",
    "! pip install --quiet google-cloud-aiplatform langchain==0.0.229 chromadb==0.3.26 pydantic==1.10.8 typing-inspect==0.8.0 typing_extensions==4.5.0 pandas datasets google-api-python-client pypdf faiss-cpu transformers config --upgrade --user"
   ]
  },
  {
   "cell_type": "code",
   "execution_count": null,
   "id": "00433153-b401-4b42-9b15-b1991c05a12b",
   "metadata": {
    "tags": []
   },
   "outputs": [],
   "source": [
    "# Below libraries are required to build a SQL engine for BigQuery\n",
    "!pip install --user SQLAlchemy==1.4.48 --quiet\n",
    "!pip install --user sqlalchemy-bigquery --quiet"
   ]
  },
  {
   "cell_type": "code",
   "execution_count": null,
   "id": "76024d2e-4f23-4ae8-83d3-03d583b33425",
   "metadata": {},
   "outputs": [],
   "source": []
  }
 ],
 "metadata": {
  "environment": {
   "kernel": "conda-root-py",
   "name": "workbench-notebooks.m117",
   "type": "gcloud",
   "uri": "us-docker.pkg.dev/deeplearning-platform-release/gcr.io/workbench-notebooks:m117"
  },
  "kernelspec": {
   "display_name": "Python 3 (ipykernel) (Local)",
   "language": "python",
   "name": "conda-root-py"
  },
  "language_info": {
   "codemirror_mode": {
    "name": "ipython",
    "version": 3
   },
   "file_extension": ".py",
   "mimetype": "text/x-python",
   "name": "python",
   "nbconvert_exporter": "python",
   "pygments_lexer": "ipython3",
   "version": "3.10.13"
  }
 },
 "nbformat": 4,
 "nbformat_minor": 5
}
