{
 "cells": [
  {
   "cell_type": "code",
   "execution_count": null,
   "id": "831874b3-4a61-4f42-82d7-a4a93ce2e319",
   "metadata": {},
   "outputs": [],
   "source": [
    "! pip install -U -q langchain, chromadb, langchain-core, langchain-gooogle-vertexai gradio, unstructure, google-cloud-storage, langchain-core"
   ]
  },
  {
   "cell_type": "code",
   "execution_count": null,
   "id": "ae843980-9e18-42f6-83c0-e5f10dfd4135",
   "metadata": {
    "tags": []
   },
   "outputs": [],
   "source": [
    "! source .venv/bin/activate"
   ]
  },
  {
   "cell_type": "code",
   "execution_count": 1,
   "id": "75e028a1-e295-4953-9431-784449ab62ee",
   "metadata": {
    "tags": []
   },
   "outputs": [],
   "source": [
    "# import libraries \n",
    "from langchain_google_vertexai import VertexAI\n",
    "from google.cloud import storage\n",
    "from langchain import LLMChain"
   ]
  },
  {
   "cell_type": "code",
   "execution_count": 2,
   "id": "c1432f98-6c43-40c2-81d3-1618e5198b4e",
   "metadata": {
    "tags": []
   },
   "outputs": [],
   "source": [
    "# retrievals \n",
    "from langchain_community.document_loaders import GCSDirectoryLoader"
   ]
  },
  {
   "cell_type": "code",
   "execution_count": 3,
   "id": "c81532cf-bac6-44c2-906c-a094feac1ae4",
   "metadata": {
    "tags": []
   },
   "outputs": [],
   "source": [
    "BUCKET_NAME = \"lloyds-genai24lon-2701-bucket\"\n",
    "PROJECT_ID = \"lloyds-genai24lon-2701\""
   ]
  },
  {
   "cell_type": "code",
   "execution_count": 29,
   "id": "4a2dc532-c470-4fc1-94a6-fa51a0fb775f",
   "metadata": {
    "tags": []
   },
   "outputs": [],
   "source": [
    "llm = VertexAI(model_name = 'text-bison-32k', max_output_tokens = 256, temperature = 0.1, top_p = 0.8, \n",
    "               top_k = 40, verbose = True)"
   ]
  },
  {
   "cell_type": "code",
   "execution_count": 5,
   "id": "acd66bc8-903c-4e73-b6d0-6ef3a5c8e775",
   "metadata": {
    "tags": []
   },
   "outputs": [],
   "source": [
    "loader = GCSDirectoryLoader(project_name = PROJECT_ID, bucket=BUCKET_NAME, prefix=\"sample_50/\")"
   ]
  },
  {
   "cell_type": "code",
   "execution_count": 6,
   "id": "4bc36df8-cc8f-4455-bba2-46307a0d959b",
   "metadata": {
    "tags": []
   },
   "outputs": [],
   "source": [
    "documents = loader.load()"
   ]
  },
  {
   "cell_type": "code",
   "execution_count": 30,
   "id": "55353ce0-5c44-4524-8b3e-1184ee49f86a",
   "metadata": {
    "tags": []
   },
   "outputs": [],
   "source": [
    "CHUNK_SIZE = 1000\n",
    "CHUNK_OVERLAP = 100"
   ]
  },
  {
   "cell_type": "code",
   "execution_count": 31,
   "id": "f76beed0-5ced-451e-9198-e219f6324250",
   "metadata": {
    "tags": []
   },
   "outputs": [],
   "source": [
    "from langchain.text_splitter import RecursiveCharacterTextSplitter\n",
    "text_splitter = RecursiveCharacterTextSplitter(chunk_size=CHUNK_SIZE, chunk_overlap=CHUNK_OVERLAP)"
   ]
  },
  {
   "cell_type": "code",
   "execution_count": 32,
   "id": "c3c1f589-390f-4c9c-b2be-06662b516eb5",
   "metadata": {
    "tags": []
   },
   "outputs": [
    {
     "name": "stdout",
     "output_type": "stream",
     "text": [
      "splitting...\n",
      "No of Documents = 1111\n"
     ]
    }
   ],
   "source": [
    "docs = text_splitter.split_documents(documents)\n",
    "print(\"splitting...\")\n",
    "print(f\"No of Documents = {len(docs)}\")"
   ]
  },
  {
   "cell_type": "code",
   "execution_count": 33,
   "id": "b0556221-99c7-4703-bdc9-d069ede31393",
   "metadata": {
    "tags": []
   },
   "outputs": [],
   "source": [
    "from langchain_google_vertexai import VertexAIEmbeddings"
   ]
  },
  {
   "cell_type": "code",
   "execution_count": 34,
   "id": "ca58abd0-55cf-48a6-8ff1-37f1a1532e98",
   "metadata": {
    "tags": []
   },
   "outputs": [],
   "source": [
    "# Structure ingested documents "
   ]
  },
  {
   "cell_type": "code",
   "execution_count": 35,
   "id": "d3e5dd7b-a34d-481a-8d83-89541b26f116",
   "metadata": {
    "tags": []
   },
   "outputs": [],
   "source": [
    "REQUESTS_PER_MINUTE = 50"
   ]
  },
  {
   "cell_type": "code",
   "execution_count": 36,
   "id": "c17bf22b-94aa-43c3-8929-bf11316ee0ba",
   "metadata": {
    "tags": []
   },
   "outputs": [
    {
     "name": "stderr",
     "output_type": "stream",
     "text": [
      "Model_name will become a required arg for VertexAIEmbeddings starting from Feb-01-2024. Currently the default is set to textembedding-gecko@001\n"
     ]
    }
   ],
   "source": [
    "embeddings = VertexAIEmbeddings(requests_per_minute= REQUESTS_PER_MINUTE)"
   ]
  },
  {
   "cell_type": "code",
   "execution_count": 14,
   "id": "b0d43ca0-297f-4555-9ca5-e3847c67fe1f",
   "metadata": {
    "tags": []
   },
   "outputs": [],
   "source": [
    "# Vector Store"
   ]
  },
  {
   "cell_type": "code",
   "execution_count": 37,
   "id": "0865167c-f82b-4d1f-b4a6-f32dd89e6300",
   "metadata": {
    "tags": []
   },
   "outputs": [],
   "source": [
    "from langchain_community.vectorstores import Chroma"
   ]
  },
  {
   "cell_type": "code",
   "execution_count": 38,
   "id": "e5b450ac-dce8-4068-86a3-553eb7e8e935",
   "metadata": {
    "tags": []
   },
   "outputs": [],
   "source": [
    "documents_vector_db = Chroma.from_documents(docs, embeddings)"
   ]
  },
  {
   "cell_type": "code",
   "execution_count": 51,
   "id": "c1d833a3-c318-4e84-8c4f-9f4afa8a16fd",
   "metadata": {
    "tags": []
   },
   "outputs": [],
   "source": [
    "retriever = documents_vector_db.as_retriever(search_type = 'mmr', search_kwargs = {\"k\":10})"
   ]
  },
  {
   "cell_type": "code",
   "execution_count": 18,
   "id": "6f0ccf6a-7e3c-453b-be9a-957fc65da6ef",
   "metadata": {
    "tags": []
   },
   "outputs": [],
   "source": [
    "# Retrieval QA Chain "
   ]
  },
  {
   "cell_type": "code",
   "execution_count": 52,
   "id": "b237d3c9-59ab-4b7d-8bec-707ff19b4346",
   "metadata": {
    "tags": []
   },
   "outputs": [],
   "source": [
    "from langchain.chains import RetrievalQA"
   ]
  },
  {
   "cell_type": "code",
   "execution_count": 53,
   "id": "3ff0fea4-5215-43d2-a2ce-f1b24d157924",
   "metadata": {
    "tags": []
   },
   "outputs": [],
   "source": [
    "qa = RetrievalQA.from_chain_type(llm = llm, chain_type = \"stuff\", retriever=retriever, return_source_documents=True)"
   ]
  },
  {
   "cell_type": "code",
   "execution_count": 54,
   "id": "989feb6c-4402-4d60-9676-1329b70cedb9",
   "metadata": {
    "tags": []
   },
   "outputs": [],
   "source": [
    "result = qa({\"query\": \"what is the context of the first page\"})"
   ]
  },
  {
   "cell_type": "code",
   "execution_count": 55,
   "id": "699433c7-a751-44ef-87a2-a8888244b1b9",
   "metadata": {
    "tags": []
   },
   "outputs": [
    {
     "data": {
      "text/plain": [
       "{'query': 'what is the context of the first page',\n",
       " 'result': ' The first page provides an overview of the approach taken by the Ombudsman in reaching their conclusions. It explains that where evidence is incomplete, inconclusive, or contradictory, they will reach their conclusions on the balance of probabilities based on the available evidence and wider surrounding circumstances. It also lists the applicable rules, regulations, and requirements that were considered in the assessment, including the Principles for Business (PRIN) and the Conduct of Business Sourcebook (COBS).',\n",
       " 'source_documents': [Document(page_content=\"Sourcebook (COBS). And where the evidence is incomplete, inconclusive or contradictory,\\n\\nI reach my conclusions on the balance of probabilities  that is, what I think is more likely\\n\\nthan not to have happened based on the available evidence and the wider surrounding\\n\\ncircumstances.\\n\\nThe applicable rules, regulations and requirements\\n\\nThe below is not a comprehensive list of the rules and regulations which applied at the time\\n\\nof the advice, but provides useful context for my assessment of Acumen's actions here.\\n\\nPRIN 6: A firm must pay due regard to the interests of its customers and treat them fairly.\\n\\nPRIN 7: A firm must pay due regard to the information needs of its clients, and communicate\\n\\ninformation to them in a way which is clear, fair and not misleading.\\n\\nCOBS 2.1.1R: A firm must act honestly, fairly and professionally in accordance with the best\\n\\ninterests of its client (the client's best interests rule).\", metadata={'source': 'gs://lloyds-genai24lon-2701-bucket/sample_50/DRN-3386728_2023-01-20.txt'}),\n",
       "  Document(page_content=\"Sourcebook (COBS). And where the evidence is incomplete, inconclusive or contradictory,\\n\\nI reach my conclusions on the balance of probabilities  that is, what I think is more likely than not to have happened based on the available evidence and the wider surrounding\\n\\ncircumstances.\\n\\nThe applicable rules, regulations and requirements\\n\\nThe below is not a comprehensive list of the rules and regulations which applied at the time\\n\\nof the advice, but provides useful context for my assessment of DCFL's actions here.\\n\\nPRIN 6: A firm must pay due regard to the interests of its customers and treat them fairly.\\n\\nPRIN 7: A firm must pay due regard to the information needs of its clients, and communicate\\n\\ninformation to them in a way which is clear, fair and not misleading.\\n\\nCOBS 2.1.1R: A firm must act honestly, fairly and professionally in accordance with the best\\n\\ninterests of its client (the client's best interests rule).\", metadata={'source': 'gs://lloyds-genai24lon-2701-bucket/sample_50/DRN-3240241_2023-01-13.txt'}),\n",
       "  Document(page_content=\"Sourcebook (COBS). And where the evidence is incomplete, inconclusive or contradictory,\\n\\nI reach my conclusions on the balance of probabilities  that is, what I think is more likely\\n\\nthan not to have happened based on the available evidence and wider circumstances.The applicable rules, regulations and requirements\\n\\nThe below is not a comprehensive list of the rules and regulations which applied at the time\\n\\nof the advice, but provides useful context for my assessment of Mulberry's actions here.\\n\\nPRIN 6: A firm must pay due regard to the interests of its customers and treat them fairly.\\n\\nPRIN 7: A firm must pay due regard to the information needs of its clients, and communicate\\n\\ninformation to them in a way which is clear, fair and not misleading.\\n\\nCOBS 2.1.1R: A firm must act honestly, fairly and professionally in accordance with the best\\n\\ninterests of its client (the client's best interests rule).\\n\\nThe provisions in COBS 9 which deal with the obligations when giving a personal\", metadata={'source': 'gs://lloyds-genai24lon-2701-bucket/sample_50/DRN-3197784_2023-01-25.txt'}),\n",
       "  Document(page_content='benefits. So, the aim was to return Mr Cs capital investment and provide 30% income tax\\n\\nrelief along with capital gains and inheritance tax efficiencies.\\n\\nAs to capital preservation its important to qualify that this was held out as a target and not a\\n\\nguarantee. As Ive explained, it does not follow that a target of capital preservation lowered\\n\\nthe EIS risk profile. This was expressly addressed in the IM as set out above.\\n\\nIts said on behalf of Mr C that Octopus provided misleading information about the nature of\\n\\nenergy sector in which investment would be made. Mr C has said he placed weight on the\\n\\npictures in the IM, which showed anaerobic plants, but Ive balanced that against his express\\n\\nacceptance in the application form that he had read the contents of the IM. So, it isnt fair\\n\\nand reasonable for me to consider the photographs in isolation. Those acting on Mr Cs behalf suggest that Octopus held out that the investment would be in', metadata={'source': 'gs://lloyds-genai24lon-2701-bucket/sample_50/DRN-3127832_2023-01-26.txt'}),\n",
       "  Document(page_content='reject my decision before 13 February 2023.\\n\\nRichard Wood\\n\\nOmbudsman\\n\\n1 See Chitty on Contracts, 34th ed., para. 31-064: the day of the act or event is be excluded from\\n\\nthe computation of the period within which the action should be brought, and time begins to run from\\n\\nthe following day.\\n\\n2 See Chitty para. 31-066: The general principle is that once time has started to run it continues to do\\n\\nso until proceedings are commenced or the claim is barred.', metadata={'source': 'gs://lloyds-genai24lon-2701-bucket/sample_50/DRN-3188815_2023-01-13.txt'}),\n",
       "  Document(page_content=\"The timeline set out in the IM showed that investment into investee companies took place\\n\\nafter the funds were provided. Mr C or his adviser had the option to seek clarity about the\\n\\nparticular assets the funds would be invested into. In the investment process section of the\\n\\nIM, a contact number was provided if any further information was sought about the process.\\n\\nIt is accepted by Mr C that his funds were invested into investee companies that focused on\\n\\nenergy, the majority into reserve power and the balance into companies concerned with\\n\\nanaerobic digestion plants, which was line with the mandate.\\n\\nIt's also important to consider in context that Octopus had sole discretionary management,\\n\\nwhich meant it was for them to make legitimate commercial decisions about which\\n\\ncompanies to invest in by reference to their EIS qualification status and energy sector status.\\n\\nNo guarantees were given as to which investee companies individual investors would invest\", metadata={'source': 'gs://lloyds-genai24lon-2701-bucket/sample_50/DRN-3127832_2023-01-26.txt'}),\n",
       "  Document(page_content='considered all the evidence provided. If I dont comment on or refer to everything Ive been\\n\\nsent or that either party have said this isnt meant as a discourtesy or because I havent\\n\\nthought about it. Rather, it is because my decision will address what I consider to be the key\\n\\nissues in deciding what is fair and reasonable.\\n\\nIve taken into account relevant law and regulations, regulators rules, guidance and\\n\\nstandards and codes of practice, and what I consider to have been good industry practice at\\n\\nthe time. This includes the Principles for Business (PRIN) and the Conduct of Business\\n\\nSourcebook (COBS). And where the evidence is incomplete, inconclusive or contradictory,\\n\\nI reach my conclusions on the balance of probabilities  that is, what I think is more likely\\n\\nthan not to have happened based on the available evidence and the wider surrounding\\n\\ncircumstances.\\n\\nThe applicable rules, regulations and requirements', metadata={'source': 'gs://lloyds-genai24lon-2701-bucket/sample_50/DRN-3201933_2023-01-27.txt'}),\n",
       "  Document(page_content='estimated returns sheet makes it clear that over 20 years she could receive £14,335.13 in\\n\\nFIT payments. Given the first year FIT payments were shown to be about £600, I dont think\\n\\nthis document supports her allegation that she was told the FIT payments would cover the\\n\\ncost of the system after five years.\\n\\nI think it is more likely that Mrs M was told the FIT payments in year one would be about\\n\\n£600. And that they would be about £14,000 over 20 years. Because of this, Im not\\n\\npersuaded that Mrs M was told the system would be self-funding through FIT payments after\\n\\nfive years.\\n\\nSelf-funding\\n\\nThe sales document examples that the CMC has provided do suggest that Mrs M may have\\n\\nbeen told the system would be in some way self-funding. Although that appears to be in\\n\\nreference to where it is paid for using a loan. But given that Mrs M chose to pay for the\\n\\nsystem up front rather than with a loan, it could only be self-funding over a period of time.', metadata={'source': 'gs://lloyds-genai24lon-2701-bucket/sample_50/DRN-3321795_2023-01-23.txt'}),\n",
       "  Document(page_content='tax relief. It was for Mr Cs adviser to assess whether the product was suitable for Mr Cs\\n\\nneeds. It was for Octopus to provide information in a clear, fair and not misleading manner\\n\\nand to manage the investment in line with the mandate. The target of capital preservation\\n\\nexplained the investment strategy, but a return was not guaranteed. Octopus maintained that\\n\\nthe key risks were set out in the Information Memorandum (IM). As to the potential areas of\\n\\ninvestment, Octopus relied upon the Details of Underlying investments guide, which\\n\\nreferred to reserve power and anaerobic digestion. As discretionary investment manager, it\\n\\nwas for Octopus to select investments in line with the mandate and they had explained the\\n\\nrisk of lack of diversification. The majority of investment was in reserve power, a sector in\\n\\nline with the mandate. Octopus set out its due diligence process, following a seven-stage', metadata={'source': 'gs://lloyds-genai24lon-2701-bucket/sample_50/DRN-3127832_2023-01-26.txt'}),\n",
       "  Document(page_content='what I consider to be the central issues, and not in as much detail, as a discourtesy. Having\\n\\ndeal with the previous complaint, Im aware of the background to this complaint and their\\n\\n(previous) relationship with the adviser.\\n\\nI reiterate that the purpose of my decision isnt to address every single point or question\\n\\nraised under a separate subject heading, its not what Im required to do in order to reach a\\n\\ndecision in this case. I appreciate this can be frustrating, but it doesnt mean Im not\\n\\nconsidering the pertinent points. Im also not bound by the decision of another ombudsman.\\n\\nEven if the cases are similar, even the smallest difference can make a difference to the\\n\\noutcome.\\n\\nMy role is to consider the evidence presented by Mrs A and the business, and reach what I\\n\\nthink is an independent, fair, and reasonable decision based on the facts of the case, rather\\n\\nthan take any sides. Im not here to decide if the business couldve done things differently.', metadata={'source': 'gs://lloyds-genai24lon-2701-bucket/sample_50/DRN-3311474_2023-01-03.txt'})]}"
      ]
     },
     "execution_count": 55,
     "metadata": {},
     "output_type": "execute_result"
    }
   ],
   "source": [
    "result"
   ]
  },
  {
   "cell_type": "markdown",
   "id": "dd1f8393-75c8-48c3-9cea-92257170b4ff",
   "metadata": {},
   "source": [
    "### Gradio "
   ]
  },
  {
   "cell_type": "code",
   "execution_count": 56,
   "id": "b39c409b-11ac-438b-ab9e-d08af30be545",
   "metadata": {
    "tags": []
   },
   "outputs": [],
   "source": [
    "def chatbot(inputtext):\n",
    "    result = qa({\"query\": inputtext})\n",
    "    return result['result'], get_public_url(result['source_documents'][0].metadata['source']), result['source_documents'][1].metadata['source']"
   ]
  },
  {
   "cell_type": "code",
   "execution_count": 57,
   "id": "5c7d520d-cce9-4ac2-a212-fd28c43d3f02",
   "metadata": {
    "tags": []
   },
   "outputs": [],
   "source": [
    "def get_public_url(url): \n",
    "    components = url.split(\"/\")\n",
    "    bucket_name = components[2]\n",
    "    file_name = components[3]\n",
    "    client = storage.Client()\n",
    "    bucket = client.bucket(bucket_name)\n",
    "    blob = bucket.blob(file_name)\n",
    "    return blob.public_url"
   ]
  },
  {
   "cell_type": "code",
   "execution_count": 25,
   "id": "ca356416-2301-4700-8f6b-2c3fff787f64",
   "metadata": {
    "tags": []
   },
   "outputs": [
    {
     "name": "stderr",
     "output_type": "stream",
     "text": [
      "/home/jupyter/.venv/lib/python3.10/site-packages/tqdm/auto.py:21: TqdmWarning: IProgress not found. Please update jupyter and ipywidgets. See https://ipywidgets.readthedocs.io/en/stable/user_install.html\n",
      "  from .autonotebook import tqdm as notebook_tqdm\n"
     ]
    }
   ],
   "source": [
    "import gradio as gr"
   ]
  },
  {
   "cell_type": "code",
   "execution_count": 47,
   "id": "fb9d5a6d-ce25-4c6e-a880-fabedd1ab607",
   "metadata": {
    "tags": []
   },
   "outputs": [],
   "source": [
    "examples = ['What is the context of the first page']"
   ]
  },
  {
   "cell_type": "code",
   "execution_count": 48,
   "id": "8c1382f4-7249-4c4d-9554-ea71da095716",
   "metadata": {
    "tags": []
   },
   "outputs": [],
   "source": [
    "iface = gr.Interface(fn=chatbot, \n",
    "                     inputs = [gr.Textbox(label=\"Query\")], \n",
    "                     examples=examples, title = \"FOS chatbot\", \n",
    "                     outputs = [gr.Textbox(label=\"Response\"), \n",
    "                               gr.Textbox(label=\"URL\"), gr.Textbox(label = \"Cloud Storage URL\")])"
   ]
  },
  {
   "cell_type": "code",
   "execution_count": 49,
   "id": "0dd1d4a9-111c-44a2-91ee-d9dc28256496",
   "metadata": {
    "tags": []
   },
   "outputs": [
    {
     "name": "stdout",
     "output_type": "stream",
     "text": [
      "Running on local URL:  http://127.0.0.1:7861\n",
      "Running on public URL: https://178336a8dfb9f53155.gradio.live\n",
      "\n",
      "This share link expires in 72 hours. For free permanent hosting and GPU upgrades, run `gradio deploy` from Terminal to deploy to Spaces (https://huggingface.co/spaces)\n"
     ]
    },
    {
     "data": {
      "text/html": [
       "<div><iframe src=\"https://178336a8dfb9f53155.gradio.live\" width=\"100%\" height=\"500\" allow=\"autoplay; camera; microphone; clipboard-read; clipboard-write;\" frameborder=\"0\" allowfullscreen></iframe></div>"
      ],
      "text/plain": [
       "<IPython.core.display.HTML object>"
      ]
     },
     "metadata": {},
     "output_type": "display_data"
    },
    {
     "data": {
      "text/plain": []
     },
     "execution_count": 49,
     "metadata": {},
     "output_type": "execute_result"
    }
   ],
   "source": [
    "iface.launch(share=True)"
   ]
  },
  {
   "cell_type": "code",
   "execution_count": null,
   "id": "a8f6bc19-a4b9-4b23-8a6d-67083f63b50d",
   "metadata": {},
   "outputs": [],
   "source": []
  }
 ],
 "metadata": {
  "environment": {
   "kernel": "venv",
   "name": "workbench-notebooks.m117",
   "type": "gcloud",
   "uri": "us-docker.pkg.dev/deeplearning-platform-release/gcr.io/workbench-notebooks:m117"
  },
  "kernelspec": {
   "display_name": "Python (myenv) (Local)",
   "language": "python",
   "name": "venv"
  },
  "language_info": {
   "codemirror_mode": {
    "name": "ipython",
    "version": 3
   },
   "file_extension": ".py",
   "mimetype": "text/x-python",
   "name": "python",
   "nbconvert_exporter": "python",
   "pygments_lexer": "ipython3",
   "version": "3.10.13"
  }
 },
 "nbformat": 4,
 "nbformat_minor": 5
}
