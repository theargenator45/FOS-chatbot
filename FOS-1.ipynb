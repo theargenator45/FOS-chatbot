{
 "cells": [
  {
   "cell_type": "code",
   "execution_count": null,
   "id": "831874b3-4a61-4f42-82d7-a4a93ce2e319",
   "metadata": {},
   "outputs": [],
   "source": [
    "! pip install -U -q langchain, chromadb, langchain-core, langchain-gooogle-vertexai gradio, unstructure, google-cloud-storage, langchain-core"
   ]
  },
  {
   "cell_type": "code",
   "execution_count": null,
   "id": "ae843980-9e18-42f6-83c0-e5f10dfd4135",
   "metadata": {
    "tags": []
   },
   "outputs": [],
   "source": [
    "! source .venv/bin/activate"
   ]
  },
  {
   "cell_type": "code",
   "execution_count": 1,
   "id": "75e028a1-e295-4953-9431-784449ab62ee",
   "metadata": {
    "tags": []
   },
   "outputs": [],
   "source": [
    "# import libraries \n",
    "from langchain_google_vertexai import VertexAI\n",
    "from google.cloud import storage\n",
    "from langchain import LLMChain"
   ]
  },
  {
   "cell_type": "code",
   "execution_count": 2,
   "id": "c1432f98-6c43-40c2-81d3-1618e5198b4e",
   "metadata": {
    "tags": []
   },
   "outputs": [],
   "source": [
    "# retrievals \n",
    "from langchain_community.document_loaders import GCSDirectoryLoader"
   ]
  },
  {
   "cell_type": "code",
   "execution_count": 3,
   "id": "c81532cf-bac6-44c2-906c-a094feac1ae4",
   "metadata": {
    "tags": []
   },
   "outputs": [],
   "source": [
    "BUCKET_NAME = \"lloyds-genai24lon-2701-bucket\"\n",
    "PROJECT_ID = \"lloyds-genai24lon-2701\""
   ]
  },
  {
   "cell_type": "code",
   "execution_count": 4,
   "id": "4a2dc532-c470-4fc1-94a6-fa51a0fb775f",
   "metadata": {
    "tags": []
   },
   "outputs": [],
   "source": [
    "llm = VertexAI(model_name = 'text-bison-32k', max_output_tokens = 256, temperature = 0.1, top_p = 0.8, \n",
    "               top_k = 40, verbose = True)"
   ]
  },
  {
   "cell_type": "code",
   "execution_count": 6,
   "id": "acd66bc8-903c-4e73-b6d0-6ef3a5c8e775",
   "metadata": {
    "tags": []
   },
   "outputs": [],
   "source": [
    "loader = GCSDirectoryLoader(project_name = PROJECT_ID, bucket=BUCKET_NAME, prefix=\"sample/\")"
   ]
  },
  {
   "cell_type": "code",
   "execution_count": 7,
   "id": "4bc36df8-cc8f-4455-bba2-46307a0d959b",
   "metadata": {
    "tags": []
   },
   "outputs": [],
   "source": [
    "documents = loader.load()"
   ]
  },
  {
   "cell_type": "code",
   "execution_count": 8,
   "id": "55353ce0-5c44-4524-8b3e-1184ee49f86a",
   "metadata": {
    "tags": []
   },
   "outputs": [],
   "source": [
    "CHUNK_SIZE = 1000\n",
    "CHUNK_OVERLAP = 100"
   ]
  },
  {
   "cell_type": "code",
   "execution_count": 9,
   "id": "f76beed0-5ced-451e-9198-e219f6324250",
   "metadata": {
    "tags": []
   },
   "outputs": [],
   "source": [
    "from langchain.text_splitter import RecursiveCharacterTextSplitter\n",
    "text_splitter = RecursiveCharacterTextSplitter(chunk_size=CHUNK_SIZE, chunk_overlap=CHUNK_OVERLAP)"
   ]
  },
  {
   "cell_type": "code",
   "execution_count": 11,
   "id": "c3c1f589-390f-4c9c-b2be-06662b516eb5",
   "metadata": {
    "tags": []
   },
   "outputs": [
    {
     "name": "stdout",
     "output_type": "stream",
     "text": [
      "splitting...\n",
      "No of Documents = 1111\n"
     ]
    }
   ],
   "source": [
    "docs = text_splitter.split_documents(documents)\n",
    "print(\"splitting...\")\n",
    "print(f\"No of Documents = {len(docs)}\")"
   ]
  },
  {
   "cell_type": "code",
   "execution_count": 14,
   "id": "b0556221-99c7-4703-bdc9-d069ede31393",
   "metadata": {
    "tags": []
   },
   "outputs": [],
   "source": [
    "from langchain_google_vertexai import VertexAIEmbeddings"
   ]
  },
  {
   "cell_type": "code",
   "execution_count": null,
   "id": "ca58abd0-55cf-48a6-8ff1-37f1a1532e98",
   "metadata": {},
   "outputs": [],
   "source": [
    "# Structure ingested documents "
   ]
  },
  {
   "cell_type": "code",
   "execution_count": 15,
   "id": "d3e5dd7b-a34d-481a-8d83-89541b26f116",
   "metadata": {
    "tags": []
   },
   "outputs": [],
   "source": [
    "REQUESTS_PER_MINUTE = 500"
   ]
  },
  {
   "cell_type": "code",
   "execution_count": 16,
   "id": "c17bf22b-94aa-43c3-8929-bf11316ee0ba",
   "metadata": {
    "tags": []
   },
   "outputs": [
    {
     "name": "stderr",
     "output_type": "stream",
     "text": [
      "Model_name will become a required arg for VertexAIEmbeddings starting from Feb-01-2024. Currently the default is set to textembedding-gecko@001\n"
     ]
    }
   ],
   "source": [
    "embeddings = VertexAIEmbeddings(requests_per_minute= REQUESTS_PER_MINUTE)"
   ]
  },
  {
   "cell_type": "code",
   "execution_count": 17,
   "id": "b0d43ca0-297f-4555-9ca5-e3847c67fe1f",
   "metadata": {
    "tags": []
   },
   "outputs": [],
   "source": [
    "# Vector Store"
   ]
  },
  {
   "cell_type": "code",
   "execution_count": 19,
   "id": "0865167c-f82b-4d1f-b4a6-f32dd89e6300",
   "metadata": {
    "tags": []
   },
   "outputs": [],
   "source": [
    "from langchain_community.vectorstores import Chroma"
   ]
  },
  {
   "cell_type": "code",
   "execution_count": 20,
   "id": "e5b450ac-dce8-4068-86a3-553eb7e8e935",
   "metadata": {
    "tags": []
   },
   "outputs": [],
   "source": [
    "documents_vector_db = Chroma.from_documents(docs, embeddings)"
   ]
  },
  {
   "cell_type": "code",
   "execution_count": 21,
   "id": "c1d833a3-c318-4e84-8c4f-9f4afa8a16fd",
   "metadata": {
    "tags": []
   },
   "outputs": [],
   "source": [
    "retriever = documents_vector_db.as_retriever(search_type = 'similarity', search_kwargs = {\"k\":2})"
   ]
  },
  {
   "cell_type": "code",
   "execution_count": null,
   "id": "6f0ccf6a-7e3c-453b-be9a-957fc65da6ef",
   "metadata": {},
   "outputs": [],
   "source": [
    "# Retrieval QA Chain "
   ]
  },
  {
   "cell_type": "code",
   "execution_count": 22,
   "id": "b237d3c9-59ab-4b7d-8bec-707ff19b4346",
   "metadata": {
    "tags": []
   },
   "outputs": [],
   "source": [
    "from langchain.chains import RetrievalQA"
   ]
  },
  {
   "cell_type": "code",
   "execution_count": 23,
   "id": "3ff0fea4-5215-43d2-a2ce-f1b24d157924",
   "metadata": {
    "tags": []
   },
   "outputs": [],
   "source": [
    "qa = RetrievalQA.from_chain_type(llm = llm, chain_type = \"stuff\", retriever=retriever, return_source_documents=True)"
   ]
  },
  {
   "cell_type": "code",
   "execution_count": null,
   "id": "989feb6c-4402-4d60-9676-1329b70cedb9",
   "metadata": {},
   "outputs": [],
   "source": []
  },
  {
   "cell_type": "markdown",
   "id": "dd1f8393-75c8-48c3-9cea-92257170b4ff",
   "metadata": {},
   "source": [
    "### Gradio "
   ]
  },
  {
   "cell_type": "code",
   "execution_count": 34,
   "id": "b39c409b-11ac-438b-ab9e-d08af30be545",
   "metadata": {
    "tags": []
   },
   "outputs": [],
   "source": [
    "def chatbot(inputtext):\n",
    "    result = qa({\"query\": inputtext})\n",
    "    return result['result'], get_public_url(result['source_documents'][0].metadata['source'], result['source_documents'][0])"
   ]
  },
  {
   "cell_type": "code",
   "execution_count": 27,
   "id": "5c7d520d-cce9-4ac2-a212-fd28c43d3f02",
   "metadata": {
    "tags": []
   },
   "outputs": [],
   "source": [
    "def get_public_url(url): \n",
    "    components = url.split(\"/\")\n",
    "    bucket_name = components[2]\n",
    "    file_name = components[3]\n",
    "    client = storage.client()\n",
    "    bucket = client.bucket(bucket_name)\n",
    "    blob = bucket.blob(file_name)\n",
    "    return blob.public_url"
   ]
  },
  {
   "cell_type": "code",
   "execution_count": 29,
   "id": "ca356416-2301-4700-8f6b-2c3fff787f64",
   "metadata": {
    "tags": []
   },
   "outputs": [
    {
     "name": "stderr",
     "output_type": "stream",
     "text": [
      "/home/jupyter/.venv/lib/python3.10/site-packages/tqdm/auto.py:21: TqdmWarning: IProgress not found. Please update jupyter and ipywidgets. See https://ipywidgets.readthedocs.io/en/stable/user_install.html\n",
      "  from .autonotebook import tqdm as notebook_tqdm\n"
     ]
    }
   ],
   "source": [
    "import gradio as gr"
   ]
  },
  {
   "cell_type": "code",
   "execution_count": 31,
   "id": "fb9d5a6d-ce25-4c6e-a880-fabedd1ab607",
   "metadata": {
    "tags": []
   },
   "outputs": [],
   "source": [
    "examples = ['What is the most common complaint']"
   ]
  },
  {
   "cell_type": "code",
   "execution_count": 35,
   "id": "8c1382f4-7249-4c4d-9554-ea71da095716",
   "metadata": {
    "tags": []
   },
   "outputs": [],
   "source": [
    "iface = gr.Interface(fn=chatbot, \n",
    "                     inputs = [gr.Textbox(label=\"Query\")], \n",
    "                     examples=examples, title = \"FOS chatbot\", \n",
    "                     outputs = [gr.Textbox(label=\"Response\"), \n",
    "                               gr.Textbox(label=\"URL\"), gr.Textbox(label = \"Cloud Storage URL\")])"
   ]
  },
  {
   "cell_type": "code",
   "execution_count": 36,
   "id": "0dd1d4a9-111c-44a2-91ee-d9dc28256496",
   "metadata": {
    "tags": []
   },
   "outputs": [
    {
     "name": "stdout",
     "output_type": "stream",
     "text": [
      "Running on local URL:  http://127.0.0.1:7861\n",
      "Running on public URL: https://668675606f7a03fee3.gradio.live\n",
      "\n",
      "This share link expires in 72 hours. For free permanent hosting and GPU upgrades, run `gradio deploy` from Terminal to deploy to Spaces (https://huggingface.co/spaces)\n"
     ]
    },
    {
     "data": {
      "text/html": [
       "<div><iframe src=\"https://668675606f7a03fee3.gradio.live\" width=\"100%\" height=\"500\" allow=\"autoplay; camera; microphone; clipboard-read; clipboard-write;\" frameborder=\"0\" allowfullscreen></iframe></div>"
      ],
      "text/plain": [
       "<IPython.core.display.HTML object>"
      ]
     },
     "metadata": {},
     "output_type": "display_data"
    },
    {
     "data": {
      "text/plain": []
     },
     "execution_count": 36,
     "metadata": {},
     "output_type": "execute_result"
    }
   ],
   "source": [
    "iface.launch(share=True)"
   ]
  },
  {
   "cell_type": "code",
   "execution_count": null,
   "id": "10e9a7a3-d976-4181-b7cf-16775cc87878",
   "metadata": {},
   "outputs": [],
   "source": []
  }
 ],
 "metadata": {
  "environment": {
   "kernel": "venv",
   "name": "workbench-notebooks.m117",
   "type": "gcloud",
   "uri": "us-docker.pkg.dev/deeplearning-platform-release/gcr.io/workbench-notebooks:m117"
  },
  "kernelspec": {
   "display_name": "Python (myenv) (Local)",
   "language": "python",
   "name": "venv"
  },
  "language_info": {
   "codemirror_mode": {
    "name": "ipython",
    "version": 3
   },
   "file_extension": ".py",
   "mimetype": "text/x-python",
   "name": "python",
   "nbconvert_exporter": "python",
   "pygments_lexer": "ipython3",
   "version": "3.10.13"
  }
 },
 "nbformat": 4,
 "nbformat_minor": 5
}
